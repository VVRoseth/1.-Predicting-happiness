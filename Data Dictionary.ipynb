{
 "cells": [
  {
   "cell_type": "markdown",
   "metadata": {},
   "source": [
    "# Data Dictionary"
   ]
  },
  {
   "cell_type": "markdown",
   "metadata": {},
   "source": [
    "STEP datasets are accompanied by a data dictionnary that covers all questions in the survey, plus a few engineered variables. The full dictionary is available at: https://microdata.worldbank.org/index.php/catalog/2012/data-dictionary/F6/?offset=\n",
    "\n",
    "The dictionnary below was created specifically for this project. It only includes 70+ selected variables from the full dataset (which has more than 1000 variables). Whenever relevant, it includes a description of the variables that were enginered.  "
   ]
  },
  {
   "cell_type": "markdown",
   "metadata": {},
   "source": [
    "| Feature Name | Survey question | Possible values |\n",
    "|--------------|-----------------|-----------------|\n",
    "|in_school     | Are you presently attending an educational institution?| 1=yes, 2=no|\n",
    "|house_type    | What kind of dwelling is this?| 1 = House, 2 = individual separate rooms, 3 = apartment in a building with less than 10 dwellings, 4 = apartment in a building with 10 or more dwellings, 5 = makeshift dwelling/temporary dwelling, 9 = other|\n",
    "|owns_house | Does your household own or is purchasing this dwelling, is it provided to you by an employer, do you use it for free, or do you rent this dwelling? | 1 = owned, 2 = being purchased/paying loan or mortgage, 3 = employer provides/pays rent, 4 = free-authorized, 5 = free – not authorized, 6 = rented, 9 = other|\n",
    "| house_beds | How many rooms of the dwelling are used for sleeping?| 1-9 bedrooms |\n",
    "|house_kitchen| Where is the cooking usually done? | 1 = in special room in the hous, 2 = in the house, not in a special room, 3 = in a separate building, 4 = outdoors, 5 = we do not cook at this household, 6 = other|\n",
    "|reported_social_status | what social status does this dwelling belongs?|1-7, 1= lowest, 6=highest, 7= None|\n",
    "|got_pr_transf | Has received transfers? | 1 = yes, 2 = no|\n",
    "|got_pu_transf | During the past 12 months, has anyone in this household received: transfers from the government | Featured variable: yes = 1, no = 0|\n",
    "|job_sector | What was the main economic activity of the enterprise/own account enterprise where you were working in this job? | Range of codes under m2_q36. Most common are: 999 = N/A, 477 = Retail Sale, 970 = house cleaning     "
   ]
  },
  {
   "cell_type": "code",
   "execution_count": null,
   "metadata": {},
   "outputs": [],
   "source": [
    "\n",
    "      \n",
    "       'job_sector', 'part_in_training', 'life_satisfaction', 'offdays_ill',\n",
    "       'healthinsurance', 'firm_econ_act', 'occupation',\n",
    "       'speak_other_languaje', 'lives_w_mother', 'lives_w_father', 'ses_15',\n",
    "       'read_work', 'read_outside', 'read_overall', 'write_work',\n",
    "       'write_outside', 'write_overall', 'num_work', 'num_outside',\n",
    "       'numeracy_overall', 'client_contact_work', 'comp_work', 'comp_outside',\n",
    "       'computer_use_overall', 'software_use', 'think_at_work',\n",
    "       'learn_at_work', 'think_learn_work', 'autonomy_at_work',\n",
    "       'repetitiveness_at_work', 'autonomy_repet_work', 'physical_demand_work',\n",
    "       'extraversion_av', 'conscientiousness_avg', 'openness_av',\n",
    "       'stability_av', 'agreeableness_av', 'grit_av', 'decision_av',\n",
    "       'hostile_av', 'risk', 'has_children', 'hh_size', 'gender', 'age',\n",
    "       'has_spouse', 'chronic_disease', 'shocks_bef_15', 'BMI',\n",
    "       'mother_tongue', 'labor_market_status', 'inactive_status',\n",
    "       'occtype_step', 'job_stable', 'pub_emp', 'job_type', 'contract',\n",
    "       'benefits', 'informal', 'hour_earnings', 'total_hr_worked_week',\n",
    "       'underemp', 'highest_ISCED_PIAAC', 'years_educ', 'wealth_index',\n",
    "       'overqualified', 'country', 'worked_lastweek', 'dropout'"
   ]
  }
 ],
 "metadata": {
  "kernelspec": {
   "display_name": "Python 3",
   "language": "python",
   "name": "python3"
  },
  "language_info": {
   "codemirror_mode": {
    "name": "ipython",
    "version": 3
   },
   "file_extension": ".py",
   "mimetype": "text/x-python",
   "name": "python",
   "nbconvert_exporter": "python",
   "pygments_lexer": "ipython3",
   "version": "3.7.4"
  }
 },
 "nbformat": 4,
 "nbformat_minor": 4
}
