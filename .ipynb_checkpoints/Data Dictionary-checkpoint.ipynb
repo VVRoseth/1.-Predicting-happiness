{
 "cells": [
  {
   "cell_type": "markdown",
   "metadata": {},
   "source": [
    "# Precicting Happiness"
   ]
  },
  {
   "cell_type": "markdown",
   "metadata": {},
   "source": [
    "## Data Dictionary"
   ]
  },
  {
   "cell_type": "markdown",
   "metadata": {},
   "source": [
    "STEP datasets are accompanied by a data dictionnary that covers all questions in the survey, plus a few engineered variables. The full dictionary is available at: https://microdata.worldbank.org/index.php/catalog/2012/data-dictionary/F6/?offset=\n",
    "\n",
    "The dictionnary below was created specifically for this project. It only includes 70+ selected variables from the full dataset (which has more than 1000 variables). Whenever relevant, it includes a description of the variables that were enginered.  "
   ]
  },
  {
   "cell_type": "markdown",
   "metadata": {},
   "source": [
    "| Feature Name | Survey question | Possible values |\n",
    "|--------------|-----------------|-----------------|\n",
    "|in_school     | Are you presently attending an educational institution?| 1=yes, 2=no|\n",
    "|house_type    | What kind of dwelling is this?| 1 = House, 2 = individual separate rooms, 3 = apartment in a building with less than 10 dwellings, 4 = apartment in a building with 10 or more dwellings, 5 = makeshift dwelling/temporary dwelling, 9 = other|\n",
    "|owns_house | Does your household own or is purchasing this dwelling, is it provided to you by an employer, do you use it for free, or do you rent this dwelling? | 1 = owned, 2 = being purchased/paying loan or mortgage, 3 = employer provides/pays rent, 4 = free-authorized, 5 = free – not authorized, 6 = rented, 9 = other|\n",
    "| house_beds | How many rooms of the dwelling are used for sleeping?| 1-9 bedrooms |\n",
    "|house_kitchen| Where is the cooking usually done? | 1 = in special room in the hous, 2 = in the house, not in a special room, 3 = in a separate building, 4 = outdoors, 5 = we do not cook at this household, 6 = other|\n",
    "|reported_social_status | what social status does this dwelling belongs?|1-7, 1= lowest, 6=highest, 7= None|\n",
    "|got_pr_transf | Has received transfers? | 1 = yes, 2 = no|\n",
    "|got_pu_transf | During the past 12 months, has anyone in this household received: transfers from the government | Featured variable: yes = 1, no = 0|\n",
    "|job_sector | What was the main economic activity of the enterprise/own account enterprise where you were working in this job? | Range of codes under m2_q36. Most common are: 999 = N/A, 477 = Retail Sale, 970 = house cleaning|\n",
    "|part_in_training | In the past 12 months, have you participated in any training courses, such as work-related training or private skills training, that lasted at least 5 days/ 30 hours (not part of the formal educational system)? | 1 = Yes, 2 = No |\n",
    "|life_satisfaction | How satisfied are you at present with your life, all things considered | scale:  1= completely dissatisfied, 10 = completely satisfied |\n",
    "|offdays_ill| During the last 4 weeks, because of this chronic illness, how many days were you unable to carry out your usual activities? | Number of days, up to 28 | \n",
    "|healthinsurance|Are you covered by health insurance?|1 = Yes, through work, 2 = yes, through a household member´s work, 3 = no, 99 = don't know| \n",
    "|firm_econ_act| What is the main economic activity of the enterprise you are working for, or of your own business or economic activity? | Codes = 1-9900. Most common: 477 = Retail sale of other goods in specialized stores|\n",
    "| occupation | Survey classification using the question about whether people worked in the last 7 days | Codes = 0 - 999, most common: 524 = Other sales workers|\n",
    "|speak_other_languaje | Do you speak another languaje well enough to get a job that requires it? | 1 = Yes, 2 = No|\n",
    "|lives_w_mother | Does your mother live in the household now? | 1 = Yes, 2 = No|\n",
    "|lives_w_father | Does your father live in the household now? | 1 = Yes, 2 = No|\n",
    "|ses_15  | Imagine a 10-step stairs where on the bottom, the FIRST step, stand the poorest people, and on the highest step, the TENTH, stand the richest. On which step do you think your family was when you were 15 years old? | 1-10 range |\n",
    "|read_work | Length of material read at work score (engineered) | 0 = skill not used, 1 = low, 2 = medium, 3 = high | \n",
    "|read_outside | Length of material read outside of work score (engineered) | 0 = skill not used, 1 = low, 2 = medium, 3 = high |\n",
    "|read_overall| Length of material read overall score  (engineered)| 0 = skill not used, 1 = low, 2 = medium, 3 = high |\n",
    "|write_work| Length of material written at work score (engineered) |  0 = skill not used, 1 = low, 2 = medium, 3 = high| \n",
    "|write_outside | Length of material written outside of work score (write_outside) (engineered) |  0 = skill not used, 1 = low, 2 = medium, 3 = high|\n",
    "|write_overall |Length of material written overall score (engineered) | 0 = skill not used, 1 = low, 2 = medium, 3 = high|\n",
    "|num_work | Numeracy at work score (engineered) |0 = skill not used, 1 = low, 2 = medium, 3 = high|\n",
    "|num_outside |Numeracy outside of work score (engineered) |0 = skill not used, 1 = low, 2 = medium, 3 = high|\n",
    "|numeracy_overall | Numeracy overall score (engineered) |0 = skill not used, 1 = low, 2 = medium, 3 = high|\n",
    "|client_contact_work | Contact with people outside of work score (engineered) |0 = skill not used, 1 = low, 2 = medium, 3 = high|\n",
    "|present | Makes presentations at work |0 = No , 1 = Yes |\n",
    "|supervise |Supervises others at work |0 = No , 1 = Yes |\n",
    "|comp_work |Frequency of computer use at work score (engineered) |0 = skill not used, 1 = low, 2 = medium, 3 = high|\n",
    "|comp_outside |Frequency of computer use outside of work score (engineered) |0 = skill not used, 1 = low, 2 = medium, 3 = high|\n",
    "|computer_use_overall |Frequency of computer use overall score (engineered) |0 = skill not used, 1 = low, 2 = medium, 3 = high|\n",
    "|software_use | Type of software use at work score | 0 = None, 1 = Basic, 2 = Advanced |\n",
    "|think_at_work | Frequency of tasks involving at least 30 minutes of thinking score (engineered)| 0 = Never, 1 = Less than once a month, 2 = at least once a week or month, 3 = Every day\n",
    "|learn_at_work | Frequency of work requiring learning new things score (engineered)| 0 = rarely or never, 1 = at least 2-3 months, 2 = at least once a week, 3 = every day|\n",
    "|think_learn_work | Frequency of thinking and learning new things score (engineered) | 0 = never, 1 = less than once a month, 2 = at least once a week or month, 3 = every day| \n",
    "|autonomy_at_work | Autonomy at work score (engineered) | 0 = skill not used, 1 = low, 2 = medium, 3 = high|\n",
    "|repetitiveness_at_work| Repetitiveness at work score (engineered) | 0 = Always, 1 = Almost all the time, 2 = more than half of the time, 3 = less than half of the time, 4 = almost never |\n",
    "|autonomy_repet_work |Autonomy and repetitiveness at work score (engineered) | 0 = skill not used, 1 = low, 2 = medium, 3 = high|\n",
    "|physical_demand_work |Lift heavy items at work score (engineered) | 0 = skill not used, 1 = low, 2 = medium, 3 = high| \n",
    "|extraversion_av | Extraversion (average of q01 q04 q20) | 1 - 4 range |\n",
    "|conscientiousness_avg | Conscientiousness (average of q02 q12 q17) | 1 - 4 range | \n",
    "|openness_av | Openness (average of q03 q11 q14) | 1 - 4 range |\n",
    "|stability_av | Emotional Stability (average of q05 q10 q18) |  1 - 4 range | \n",
    "|agreeableness_av | Agreeableness (average of q09 q16 q19) | 1 - 4 range |\n",
    "|grit_av | Grit (average of q06 q08 q13) | 1 - 4 range |\n",
    "|decision_av |Decision making (average of q15 q21 q23 q24) | 1 - 4 range | \n",
    "|hostile_av |Hostile Bias (average of q07 q22) | 1 - 4 range | \n",
    "|risk | Risk aversion | 1 - 4 range | \n",
    "|has_children | respondent is the parent of a child in the hh | 0 = No , 1 = yes| \n",
    "|hh_size | HH size, excludes non-relatives | 1 - 22 range |\n",
    "|gender |   |0 = Male, 1 = Female| \n",
    "|age |   | 15 - 64 range |\n",
    "|has_spouse|   | 0 = no, 1 = yes | \n",
    "|chronic_disease|   | 0 =n no, 1 = yes| \n",
    "|shocks_bef_15 |Dummy for economic shocks before age 15 | 0 = no shocks, 1 = at least one shock| \n",
    "|BMI| Body Mass Index | \"A BMI under 16 is extremely emaciated; a BMI of 15 signals starvation. BMI's over 40 signal morbid obesity.\" | 14 - 47.7 range|\n",
    "|mother_tongue |    | 0 = other, 1 = Spanish only |\n",
    "|labor_market_status |   | 1 = employed, 2 = unemployed, 3 = inactive|\n",
    "|inactive_status | Types of inactive population | 1 = housework, 2 = retired/old, 3 = student, 4 = unfit, 5 = discouraged, 6 = in transition, 7 = Other, 8 = Looking for work, not available in next 2 weeks| \n",
    "|occtype_step|   | 0 = Military personnel, 1 = Highly skilled white collar - Managers/Professionals/Technicians, 2 = Low skilled white collar, 3 = Crafts and related trades workers; Plant and machine operator and assemblers, 4 = Elementary occupations, 5 = Skilled agriculture work | \n",
    "|job_stable| Permanent position | 0 = No, 1 = Yes | \n",
    "|pub_emp | Public or private sector employee | 0 = Private, 1 = Public | \n",
    "|job_type | What is your type of employment? | 1 = employee, 2 = self-employed, own account, worker, an owner with or without hired labor, 3 = unpaid worker in family business, 9 = other (specify)|\n",
    "|contract | Has written employment contract | 0 = no, 1 = yes |\n",
    "|benefits | Receives social security benefits at work | 0 = no, 1 = yes| \n",
    "|informal |   |0 = formal, 1 = informal| \n",
    "|hour_earnings|earnings for wage earners is net of taxes and benefits. earnings for self-employed is gross. Corresponds to main occupation| Range of continuous values in local currency, from 1.27  to 225287.35| \n",
    "|total_hr_worked_week| Total hours worked during the week, all jobs (total_hours_week)| 0 - 133 hours|\n",
    "|underemp | Refers to working under 35 hours/week and wanting to work more hours for the same pay | 0 = not underemployed, 1 = underemployed|\n",
    "|highest_ISCED_PIAAC |Highest ISCED completed, PIAAC (ISCED_p)| 0 = None or less, 1 = ISCED 1, 2 = ISCED 2, 3 = ISCED 3A-B, 4 = ISCED 4A/B, 5 = ISCED 5B, 6 = ISCED 5A, bachelor, 7 = ISCED 5A, master, 8 = ISCED 6, 9 = DK, 10 = RF| \n",
    "|years_educ |Number of years of education (years_educ)| 0 - 20|\n",
    "|wealth_index | Asset Wealth Index (asset_index) | Range: -3.17408537864685 - 1.84625577926636| \n",
    "|overqualified | Difference between education and education needed for job (ISCED_dif)| range -4 to 5, -4 to -1 = underqualified, = neither, > 0 overqualified |\n",
    "|worked_lastweek | During the past 7 days, have you worked for at least an hour for wage or salary in cash or in kind for someone who is not a member of your household, for example, a public or private enterprise or company, an NGO or any other individual? | 1 = Yes, 2 = No| \n",
    "|dropout | Dropped out of highest educational level started (dropout)| 0 = No, 1 = Yes\n"
   ]
  }
 ],
 "metadata": {
  "kernelspec": {
   "display_name": "Python 3",
   "language": "python",
   "name": "python3"
  },
  "language_info": {
   "codemirror_mode": {
    "name": "ipython",
    "version": 3
   },
   "file_extension": ".py",
   "mimetype": "text/x-python",
   "name": "python",
   "nbconvert_exporter": "python",
   "pygments_lexer": "ipython3",
   "version": "3.7.4"
  }
 },
 "nbformat": 4,
 "nbformat_minor": 4
}
