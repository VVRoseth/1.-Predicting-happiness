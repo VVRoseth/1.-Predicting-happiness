{
 "cells": [
  {
   "cell_type": "markdown",
   "metadata": {},
   "source": [
    "# Predicting happiness "
   ]
  },
  {
   "cell_type": "markdown",
   "metadata": {},
   "source": [
    "## Exploring dataset from country 1 (Colombia) "
   ]
  },
  {
   "cell_type": "markdown",
   "metadata": {},
   "source": [
    "### 1. Imports:"
   ]
  },
  {
   "cell_type": "code",
   "execution_count": 1,
   "metadata": {},
   "outputs": [],
   "source": [
    "import pandas as pd\n",
    "import numpy as np"
   ]
  },
  {
   "cell_type": "markdown",
   "metadata": {},
   "source": [
    "### STEP Dataset for Colombia:"
   ]
  },
  {
   "cell_type": "code",
   "execution_count": 2,
   "metadata": {},
   "outputs": [],
   "source": [
    "# Reading the data\n",
    "Colombia = pd.read_excel('./COL_2012_STEP-HH_v02_M_CSV/STEP Colombia_working.xlsx')"
   ]
  },
  {
   "cell_type": "code",
   "execution_count": 3,
   "metadata": {},
   "outputs": [
    {
     "data": {
      "text/html": [
       "<div>\n",
       "<style scoped>\n",
       "    .dataframe tbody tr th:only-of-type {\n",
       "        vertical-align: middle;\n",
       "    }\n",
       "\n",
       "    .dataframe tbody tr th {\n",
       "        vertical-align: top;\n",
       "    }\n",
       "\n",
       "    .dataframe thead th {\n",
       "        text-align: right;\n",
       "    }\n",
       "</style>\n",
       "<table border=\"1\" class=\"dataframe\">\n",
       "  <thead>\n",
       "    <tr style=\"text-align: right;\">\n",
       "      <th></th>\n",
       "      <th>other_cluster</th>\n",
       "      <th>cluster</th>\n",
       "      <th>hhn</th>\n",
       "      <th>idcode</th>\n",
       "      <th>m1a_selec</th>\n",
       "      <th>W_FinSPwt</th>\n",
       "      <th>urban</th>\n",
       "      <th>W_FinS</th>\n",
       "      <th>check_digi</th>\n",
       "      <th>litasst</th>\n",
       "      <th>...</th>\n",
       "      <th>asset_q</th>\n",
       "      <th>country</th>\n",
       "      <th>ISCED_dif</th>\n",
       "      <th>W_Unique_Pwt</th>\n",
       "      <th>W_Unique_HHwt</th>\n",
       "      <th>ISCED_needed</th>\n",
       "      <th>write_dif</th>\n",
       "      <th>ma</th>\n",
       "      <th>_merge</th>\n",
       "      <th>econ_sector</th>\n",
       "    </tr>\n",
       "  </thead>\n",
       "  <tbody>\n",
       "    <tr>\n",
       "      <th>0</th>\n",
       "      <td>104</td>\n",
       "      <td>1</td>\n",
       "      <td>4</td>\n",
       "      <td>1</td>\n",
       "      <td>0.148505</td>\n",
       "      <td>6193.177461</td>\n",
       "      <td>1</td>\n",
       "      <td>9588.932617</td>\n",
       "      <td>5.0</td>\n",
       "      <td>1</td>\n",
       "      <td>...</td>\n",
       "      <td>3</td>\n",
       "      <td>Colombia</td>\n",
       "      <td>NaN</td>\n",
       "      <td>6193.177246</td>\n",
       "      <td>1238.635498</td>\n",
       "      <td>NaN</td>\n",
       "      <td>NaN</td>\n",
       "      <td>1</td>\n",
       "      <td>3</td>\n",
       "      <td>NaN</td>\n",
       "    </tr>\n",
       "    <tr>\n",
       "      <th>1</th>\n",
       "      <td>109</td>\n",
       "      <td>1</td>\n",
       "      <td>9</td>\n",
       "      <td>1</td>\n",
       "      <td>0.163387</td>\n",
       "      <td>1238.635492</td>\n",
       "      <td>1</td>\n",
       "      <td>2760.643799</td>\n",
       "      <td>0.0</td>\n",
       "      <td>1</td>\n",
       "      <td>...</td>\n",
       "      <td>3</td>\n",
       "      <td>Colombia</td>\n",
       "      <td>1.0</td>\n",
       "      <td>1238.635498</td>\n",
       "      <td>1238.635498</td>\n",
       "      <td>5.0</td>\n",
       "      <td>0.0</td>\n",
       "      <td>1</td>\n",
       "      <td>3</td>\n",
       "      <td>3.0</td>\n",
       "    </tr>\n",
       "    <tr>\n",
       "      <th>2</th>\n",
       "      <td>125</td>\n",
       "      <td>1</td>\n",
       "      <td>25</td>\n",
       "      <td>1</td>\n",
       "      <td>0.894068</td>\n",
       "      <td>3715.906477</td>\n",
       "      <td>1</td>\n",
       "      <td>5753.359863</td>\n",
       "      <td>0.0</td>\n",
       "      <td>1</td>\n",
       "      <td>...</td>\n",
       "      <td>3</td>\n",
       "      <td>Colombia</td>\n",
       "      <td>NaN</td>\n",
       "      <td>3715.906494</td>\n",
       "      <td>1238.635498</td>\n",
       "      <td>NaN</td>\n",
       "      <td>NaN</td>\n",
       "      <td>1</td>\n",
       "      <td>3</td>\n",
       "      <td>NaN</td>\n",
       "    </tr>\n",
       "    <tr>\n",
       "      <th>3</th>\n",
       "      <td>128</td>\n",
       "      <td>1</td>\n",
       "      <td>28</td>\n",
       "      <td>2</td>\n",
       "      <td>0.879388</td>\n",
       "      <td>9909.083938</td>\n",
       "      <td>1</td>\n",
       "      <td>15342.292969</td>\n",
       "      <td>1.0</td>\n",
       "      <td>1</td>\n",
       "      <td>...</td>\n",
       "      <td>3</td>\n",
       "      <td>Colombia</td>\n",
       "      <td>NaN</td>\n",
       "      <td>9909.083984</td>\n",
       "      <td>4954.541992</td>\n",
       "      <td>NaN</td>\n",
       "      <td>NaN</td>\n",
       "      <td>1</td>\n",
       "      <td>3</td>\n",
       "      <td>NaN</td>\n",
       "    </tr>\n",
       "    <tr>\n",
       "      <th>4</th>\n",
       "      <td>210</td>\n",
       "      <td>2</td>\n",
       "      <td>10</td>\n",
       "      <td>1</td>\n",
       "      <td>0.340077</td>\n",
       "      <td>3970.371175</td>\n",
       "      <td>1</td>\n",
       "      <td>6435.691895</td>\n",
       "      <td>3.0</td>\n",
       "      <td>1</td>\n",
       "      <td>...</td>\n",
       "      <td>5</td>\n",
       "      <td>Colombia</td>\n",
       "      <td>1.0</td>\n",
       "      <td>3970.371094</td>\n",
       "      <td>1488.889160</td>\n",
       "      <td>1.0</td>\n",
       "      <td>0.0</td>\n",
       "      <td>1</td>\n",
       "      <td>3</td>\n",
       "      <td>3.0</td>\n",
       "    </tr>\n",
       "  </tbody>\n",
       "</table>\n",
       "<p>5 rows × 1162 columns</p>\n",
       "</div>"
      ],
      "text/plain": [
       "   other_cluster  cluster  hhn  idcode  m1a_selec    W_FinSPwt  urban  \\\n",
       "0            104        1    4       1   0.148505  6193.177461      1   \n",
       "1            109        1    9       1   0.163387  1238.635492      1   \n",
       "2            125        1   25       1   0.894068  3715.906477      1   \n",
       "3            128        1   28       2   0.879388  9909.083938      1   \n",
       "4            210        2   10       1   0.340077  3970.371175      1   \n",
       "\n",
       "         W_FinS  check_digi  litasst  ...  asset_q   country  ISCED_dif  \\\n",
       "0   9588.932617         5.0        1  ...        3  Colombia        NaN   \n",
       "1   2760.643799         0.0        1  ...        3  Colombia        1.0   \n",
       "2   5753.359863         0.0        1  ...        3  Colombia        NaN   \n",
       "3  15342.292969         1.0        1  ...        3  Colombia        NaN   \n",
       "4   6435.691895         3.0        1  ...        5  Colombia        1.0   \n",
       "\n",
       "   W_Unique_Pwt W_Unique_HHwt  ISCED_needed  write_dif ma  _merge  econ_sector  \n",
       "0   6193.177246   1238.635498           NaN        NaN  1       3          NaN  \n",
       "1   1238.635498   1238.635498           5.0        0.0  1       3          3.0  \n",
       "2   3715.906494   1238.635498           NaN        NaN  1       3          NaN  \n",
       "3   9909.083984   4954.541992           NaN        NaN  1       3          NaN  \n",
       "4   3970.371094   1488.889160           1.0        0.0  1       3          3.0  \n",
       "\n",
       "[5 rows x 1162 columns]"
      ]
     },
     "execution_count": 3,
     "metadata": {},
     "output_type": "execute_result"
    }
   ],
   "source": [
    "# Taking a look at the data \n",
    "Colombia.head()"
   ]
  },
  {
   "cell_type": "code",
   "execution_count": 4,
   "metadata": {},
   "outputs": [
    {
     "data": {
      "text/plain": [
       "(2617, 1162)"
      ]
     },
     "execution_count": 4,
     "metadata": {},
     "output_type": "execute_result"
    }
   ],
   "source": [
    "# Exploring the size of the data  \n",
    "Colombia.shape"
   ]
  },
  {
   "cell_type": "code",
   "execution_count": 5,
   "metadata": {},
   "outputs": [],
   "source": [
    "# After exploring the data dictionnary (available here: https://microdata.worldbank.org/index.php/catalog/2012/data-dictionary/F6/?offset=), \n",
    "# I identified six categories that I want to include on my analysis of what makes people happy. They are health, weatlh, personality, \n",
    "# education, work, other personal characteristic, and family. I looked at the values in most variables, and deleted those that did not belong \n",
    "# to either category or that were redundant."
   ]
  },
  {
   "cell_type": "code",
   "execution_count": 6,
   "metadata": {},
   "outputs": [],
   "source": [
    "# Below I am selecting the variables that I found to be relevant to my question and not redundant. \n",
    "colstep= Colombia [['m1a_q05y','m1a_q08','m1b_q01','m1b_q05', 'm1b_q07', 'm1b_q10','m1b12a','m1b_q19', 'm2_q08_g',\n",
    "           'm2_q36','m2_q39', 'm3_q01', 'm3_q06', 'm3_q07', 'm4b_q04_1', 'm4b_q01_2', 'm5a_q01_occ_code', 'm5a_q20', 'm7a_q05', \n",
    "           'm7a_q12', 'm7a_q14', 'm7a_q15', 'm7a_q17', 'm7a_q23', 'read_work', 'read_outside', 'read', 'write_work', 'write_outside', 'write',\n",
    "           'num_work', 'num_outside', 'num', 'interpers_ex', 'comp_work', 'comp_outside', 'computer', 'computertype', 'think', 'learn', \n",
    "           'cogchall','autonomy', 'repet', 'auto_rep', 'physic', 'extraversion_av', 'conscientiousness_avg', 'openness_av', \n",
    "           'stability_av', 'agreeableness_av', 'grit_av', 'decision_av', 'hostile_av', 'risk', 'has_children', 'hh_size', 'gender', 'age',\n",
    "           'has_spouse', 'chronic', 'shocks_dummy', 'BMI', 'BMI_class', 'parental', 'mother_tongue', 'lm_status', 'inactive', \n",
    "           'occupation', 'occtype_step', 'permanent', 'pub_emp', 'm4c_q06','contract', 'benefits', 'informal','earnings_h', 'earnings_h_usd', \n",
    "           'ln_earnings_h', 'ln_earnings_h_usd', 'total_hours_week', 'underemp', 'ISCED_p', 'years_educ', 'highest_field_1',\n",
    "           'asset_index','ISCED_dif', 'country', 'm4a_q01', 'dropout']]"
   ]
  },
  {
   "cell_type": "code",
   "execution_count": 7,
   "metadata": {},
   "outputs": [],
   "source": [
    "# Creating a name dictionary to replace the name of the columns \n",
    "name_dictionary = {'m1a_q05y':\t'birth_year', 'm1a_q08' : 'in_school', 'm1b_q01': 'house_type', 'm1b_q05': 'owns_house',\n",
    "                   'm1b_q07': 'house_beds', 'm1b_q10': 'house_kitchen', 'm1b12a': 'reported_social_status', 'm1b_q19' :\t'got_pr_transf',\n",
    "                   'm2_q08_g':\t'highest_formal_ed', 'm2_q36': 'job_sector', 'm2_q39': 'part_in_training', 'm3_q01': 'life_satisfaction', \n",
    "                   'm3_q06': 'offdays_ill', 'm3_q07': 'healthinsurance', 'm4b_q04_1': 'firm_econ_act', 'm4b_q01_2': 'main_work', \n",
    "                   'm5a_q01_occ_code':\t'occupation', 'm4c_q06': 'job_type', 'm5a_q20': 'lowwritting_forjob', 'm7a_q05': 'speak_other_languaje', \n",
    "                   'm7a_q12':'lives_w_mother', 'm7a_q14': 'mother_education', \n",
    "                   'm7a_q15': 'lives_w_father', 'm7a_q17': 'father_education', 'm7a_q23': 'ses_15','read': 'read_overall', 'write':\t'write_overall', \n",
    "                   'num': 'numeracy_overall', 'interpers_ex':'client_contact_work', 'computer': 'computer_use_overall', \n",
    "                   'computertype': 'software_use', 'think':\t'think_at_work', 'learn': 'learn_at_work', 'cogchall': 'think_learn_work',\n",
    "                   'autonomy':\t'autonomy_at_work', 'repet': 'repetitiveness_at_work', 'auto_rep': 'autonomy_repet_work', \n",
    "                   'physic': 'physical_demand_work', 'chronic':\t'chronic_disease', 'shocks_dummy': 'shocks_bef_15', 'parental':\t'parental_involvement', \n",
    "                   'lm_status': 'labor_market_status', 'inactive' :\t'inactive_status', 'occupation': 'occupation_code', 'permanent': 'job_stable',\n",
    "                   'earnings_h': 'hour_earnings', 'earnings_h_usd': 'USD_hour_earnings', 'ln_earnings_h': 'log_hour_earnings', \n",
    "                   'ln_earnings_h_usd' : 'USD_log_hour_earnings', 'total_hours_week': 'total_hr_worked_week', 'ISCED_p': 'highest_ISCED_PIAAC', \n",
    "                   'highest_field_1': 'degree_field', 'asset_index': 'wealth_index', 'ISCED_dif': 'overqualified', 'm4a_q01':'worked_lastweek', \n",
    "                   }\n"
   ]
  },
  {
   "cell_type": "code",
   "execution_count": 8,
   "metadata": {},
   "outputs": [
    {
     "name": "stderr",
     "output_type": "stream",
     "text": [
      "/Users/vvroseth/opt/anaconda3/lib/python3.7/site-packages/pandas/core/frame.py:4238: SettingWithCopyWarning: \n",
      "A value is trying to be set on a copy of a slice from a DataFrame\n",
      "\n",
      "See the caveats in the documentation: http://pandas.pydata.org/pandas-docs/stable/user_guide/indexing.html#returning-a-view-versus-a-copy\n",
      "  return super().rename(**kwargs)\n"
     ]
    }
   ],
   "source": [
    "colstep.rename(columns = name_dictionary, inplace=True, copy = True)"
   ]
  },
  {
   "cell_type": "code",
   "execution_count": 9,
   "metadata": {},
   "outputs": [
    {
     "data": {
      "text/html": [
       "<div>\n",
       "<style scoped>\n",
       "    .dataframe tbody tr th:only-of-type {\n",
       "        vertical-align: middle;\n",
       "    }\n",
       "\n",
       "    .dataframe tbody tr th {\n",
       "        vertical-align: top;\n",
       "    }\n",
       "\n",
       "    .dataframe thead th {\n",
       "        text-align: right;\n",
       "    }\n",
       "</style>\n",
       "<table border=\"1\" class=\"dataframe\">\n",
       "  <thead>\n",
       "    <tr style=\"text-align: right;\">\n",
       "      <th></th>\n",
       "      <th>birth_year</th>\n",
       "      <th>in_school</th>\n",
       "      <th>house_type</th>\n",
       "      <th>owns_house</th>\n",
       "      <th>house_beds</th>\n",
       "      <th>house_kitchen</th>\n",
       "      <th>reported_social_status</th>\n",
       "      <th>got_pr_transf</th>\n",
       "      <th>highest_formal_ed</th>\n",
       "      <th>job_sector</th>\n",
       "      <th>...</th>\n",
       "      <th>total_hr_worked_week</th>\n",
       "      <th>underemp</th>\n",
       "      <th>highest_ISCED_PIAAC</th>\n",
       "      <th>years_educ</th>\n",
       "      <th>degree_field</th>\n",
       "      <th>wealth_index</th>\n",
       "      <th>overqualified</th>\n",
       "      <th>country</th>\n",
       "      <th>worked_lastweek</th>\n",
       "      <th>dropout</th>\n",
       "    </tr>\n",
       "  </thead>\n",
       "  <tbody>\n",
       "    <tr>\n",
       "      <th>0</th>\n",
       "      <td>1954</td>\n",
       "      <td>2.0</td>\n",
       "      <td>3</td>\n",
       "      <td>6</td>\n",
       "      <td>5</td>\n",
       "      <td>1</td>\n",
       "      <td>3</td>\n",
       "      <td>2</td>\n",
       "      <td>2.0</td>\n",
       "      <td>NaN</td>\n",
       "      <td>...</td>\n",
       "      <td>0</td>\n",
       "      <td>NaN</td>\n",
       "      <td>3</td>\n",
       "      <td>11.0</td>\n",
       "      <td>NaN</td>\n",
       "      <td>-0.172015</td>\n",
       "      <td>NaN</td>\n",
       "      <td>Colombia</td>\n",
       "      <td>2.0</td>\n",
       "      <td>0.0</td>\n",
       "    </tr>\n",
       "    <tr>\n",
       "      <th>1</th>\n",
       "      <td>1976</td>\n",
       "      <td>2.0</td>\n",
       "      <td>3</td>\n",
       "      <td>6</td>\n",
       "      <td>2</td>\n",
       "      <td>1</td>\n",
       "      <td>3</td>\n",
       "      <td>2</td>\n",
       "      <td>4.0</td>\n",
       "      <td>799.0</td>\n",
       "      <td>...</td>\n",
       "      <td>24</td>\n",
       "      <td>0.0</td>\n",
       "      <td>5</td>\n",
       "      <td>13.0</td>\n",
       "      <td>53.0</td>\n",
       "      <td>0.303367</td>\n",
       "      <td>1.0</td>\n",
       "      <td>Colombia</td>\n",
       "      <td>2.0</td>\n",
       "      <td>0.0</td>\n",
       "    </tr>\n",
       "    <tr>\n",
       "      <th>2</th>\n",
       "      <td>1951</td>\n",
       "      <td>2.0</td>\n",
       "      <td>1</td>\n",
       "      <td>6</td>\n",
       "      <td>4</td>\n",
       "      <td>1</td>\n",
       "      <td>3</td>\n",
       "      <td>2</td>\n",
       "      <td>3.0</td>\n",
       "      <td>NaN</td>\n",
       "      <td>...</td>\n",
       "      <td>0</td>\n",
       "      <td>NaN</td>\n",
       "      <td>1</td>\n",
       "      <td>8.0</td>\n",
       "      <td>NaN</td>\n",
       "      <td>0.257640</td>\n",
       "      <td>NaN</td>\n",
       "      <td>Colombia</td>\n",
       "      <td>2.0</td>\n",
       "      <td>1.0</td>\n",
       "    </tr>\n",
       "    <tr>\n",
       "      <th>3</th>\n",
       "      <td>1972</td>\n",
       "      <td>2.0</td>\n",
       "      <td>3</td>\n",
       "      <td>6</td>\n",
       "      <td>3</td>\n",
       "      <td>1</td>\n",
       "      <td>3</td>\n",
       "      <td>2</td>\n",
       "      <td>7.0</td>\n",
       "      <td>466.0</td>\n",
       "      <td>...</td>\n",
       "      <td>0</td>\n",
       "      <td>NaN</td>\n",
       "      <td>3</td>\n",
       "      <td>14.5</td>\n",
       "      <td>NaN</td>\n",
       "      <td>0.303686</td>\n",
       "      <td>NaN</td>\n",
       "      <td>Colombia</td>\n",
       "      <td>2.0</td>\n",
       "      <td>1.0</td>\n",
       "    </tr>\n",
       "    <tr>\n",
       "      <th>4</th>\n",
       "      <td>1989</td>\n",
       "      <td>2.0</td>\n",
       "      <td>1</td>\n",
       "      <td>1</td>\n",
       "      <td>2</td>\n",
       "      <td>1</td>\n",
       "      <td>3</td>\n",
       "      <td>2</td>\n",
       "      <td>2.0</td>\n",
       "      <td>477.0</td>\n",
       "      <td>...</td>\n",
       "      <td>30</td>\n",
       "      <td>0.0</td>\n",
       "      <td>3</td>\n",
       "      <td>11.0</td>\n",
       "      <td>NaN</td>\n",
       "      <td>1.061927</td>\n",
       "      <td>1.0</td>\n",
       "      <td>Colombia</td>\n",
       "      <td>2.0</td>\n",
       "      <td>0.0</td>\n",
       "    </tr>\n",
       "  </tbody>\n",
       "</table>\n",
       "<p>5 rows × 89 columns</p>\n",
       "</div>"
      ],
      "text/plain": [
       "   birth_year  in_school  house_type  owns_house  house_beds  house_kitchen  \\\n",
       "0        1954        2.0           3           6           5              1   \n",
       "1        1976        2.0           3           6           2              1   \n",
       "2        1951        2.0           1           6           4              1   \n",
       "3        1972        2.0           3           6           3              1   \n",
       "4        1989        2.0           1           1           2              1   \n",
       "\n",
       "   reported_social_status  got_pr_transf  highest_formal_ed  job_sector  ...  \\\n",
       "0                       3              2                2.0         NaN  ...   \n",
       "1                       3              2                4.0       799.0  ...   \n",
       "2                       3              2                3.0         NaN  ...   \n",
       "3                       3              2                7.0       466.0  ...   \n",
       "4                       3              2                2.0       477.0  ...   \n",
       "\n",
       "   total_hr_worked_week  underemp  highest_ISCED_PIAAC  years_educ  \\\n",
       "0                     0       NaN                    3        11.0   \n",
       "1                    24       0.0                    5        13.0   \n",
       "2                     0       NaN                    1         8.0   \n",
       "3                     0       NaN                    3        14.5   \n",
       "4                    30       0.0                    3        11.0   \n",
       "\n",
       "   degree_field  wealth_index  overqualified   country  worked_lastweek  \\\n",
       "0           NaN     -0.172015            NaN  Colombia              2.0   \n",
       "1          53.0      0.303367            1.0  Colombia              2.0   \n",
       "2           NaN      0.257640            NaN  Colombia              2.0   \n",
       "3           NaN      0.303686            NaN  Colombia              2.0   \n",
       "4           NaN      1.061927            1.0  Colombia              2.0   \n",
       "\n",
       "   dropout  \n",
       "0      0.0  \n",
       "1      0.0  \n",
       "2      1.0  \n",
       "3      1.0  \n",
       "4      0.0  \n",
       "\n",
       "[5 rows x 89 columns]"
      ]
     },
     "execution_count": 9,
     "metadata": {},
     "output_type": "execute_result"
    }
   ],
   "source": [
    "colstep.head()"
   ]
  },
  {
   "cell_type": "markdown",
   "metadata": {},
   "source": [
    "### 2. Cleaning of selected variables:"
   ]
  },
  {
   "cell_type": "code",
   "execution_count": 10,
   "metadata": {},
   "outputs": [
    {
     "data": {
      "text/plain": [
       "(2617, 89)"
      ]
     },
     "execution_count": 10,
     "metadata": {},
     "output_type": "execute_result"
    }
   ],
   "source": [
    "# Looking for the size of the dataset \n",
    "colstep.shape"
   ]
  },
  {
   "cell_type": "code",
   "execution_count": 11,
   "metadata": {},
   "outputs": [
    {
     "data": {
      "text/plain": [
       "60"
      ]
     },
     "execution_count": 11,
     "metadata": {},
     "output_type": "execute_result"
    }
   ],
   "source": [
    "# To display as many rows as each selection gives me \n",
    "pd.options.display.max_rows"
   ]
  },
  {
   "cell_type": "code",
   "execution_count": 12,
   "metadata": {},
   "outputs": [
    {
     "name": "stdout",
     "output_type": "stream",
     "text": [
      "<class 'pandas.core.frame.DataFrame'>\n",
      "RangeIndex: 2617 entries, 0 to 2616\n",
      "Data columns (total 89 columns):\n",
      "birth_year                2617 non-null int64\n",
      "in_school                 2592 non-null float64\n",
      "house_type                2617 non-null int64\n",
      "owns_house                2617 non-null int64\n",
      "house_beds                2617 non-null int64\n",
      "house_kitchen             2617 non-null int64\n",
      "reported_social_status    2617 non-null int64\n",
      "got_pr_transf             2617 non-null int64\n",
      "highest_formal_ed         2593 non-null float64\n",
      "job_sector                1737 non-null float64\n",
      "part_in_training          2613 non-null float64\n",
      "life_satisfaction         2612 non-null float64\n",
      "offdays_ill               485 non-null float64\n",
      "healthinsurance           2612 non-null float64\n",
      "firm_econ_act             1738 non-null float64\n",
      "main_work                 135 non-null float64\n",
      "occupation                1736 non-null float64\n",
      "lowwritting_forjob        1979 non-null float64\n",
      "speak_other_languaje      2606 non-null float64\n",
      "lives_w_mother            2606 non-null float64\n",
      "mother_education          1827 non-null float64\n",
      "lives_w_father            2606 non-null float64\n",
      "father_education          2190 non-null float64\n",
      "ses_15                    2605 non-null float64\n",
      "read_work                 1975 non-null float64\n",
      "read_outside              2606 non-null float64\n",
      "read_overall              2608 non-null float64\n",
      "write_work                1977 non-null float64\n",
      "write_outside             2607 non-null float64\n",
      "write_overall             2608 non-null float64\n",
      "num_work                  1979 non-null float64\n",
      "num_outside               2608 non-null float64\n",
      "numeracy_overall          2608 non-null float64\n",
      "client_contact_work       1977 non-null float64\n",
      "comp_work                 1977 non-null float64\n",
      "comp_outside              2607 non-null float64\n",
      "computer_use_overall      2607 non-null float64\n",
      "software_use              1955 non-null float64\n",
      "think_at_work             1977 non-null float64\n",
      "learn_at_work             1971 non-null float64\n",
      "think_learn_work          1971 non-null float64\n",
      "autonomy_at_work          1977 non-null float64\n",
      "repetitiveness_at_work    1977 non-null float64\n",
      "autonomy_repet_work       1977 non-null float64\n",
      "physical_demand_work      1977 non-null float64\n",
      "extraversion_av           2606 non-null float64\n",
      "conscientiousness_avg     2606 non-null float64\n",
      "openness_av               2606 non-null float64\n",
      "stability_av              2606 non-null float64\n",
      "agreeableness_av          2606 non-null float64\n",
      "grit_av                   2606 non-null float64\n",
      "decision_av               2606 non-null float64\n",
      "hostile_av                2606 non-null float64\n",
      "risk                      2606 non-null float64\n",
      "has_children              2606 non-null float64\n",
      "hh_size                   2617 non-null int64\n",
      "gender                    2617 non-null int64\n",
      "age                       2617 non-null int64\n",
      "has_spouse                2617 non-null int64\n",
      "chronic_disease           2612 non-null float64\n",
      "shocks_bef_15             2605 non-null float64\n",
      "BMI                       2516 non-null float64\n",
      "BMI_class                 2433 non-null float64\n",
      "parental_involvement      2591 non-null float64\n",
      "mother_tongue             2606 non-null float64\n",
      "labor_market_status       2611 non-null float64\n",
      "inactive_status           593 non-null float64\n",
      "occupation_code           1978 non-null float64\n",
      "occtype_step              1978 non-null float64\n",
      "job_stable                1709 non-null float64\n",
      "pub_emp                   996 non-null float64\n",
      "job_type                  1736 non-null float64\n",
      "contract                  996 non-null float64\n",
      "benefits                  1709 non-null float64\n",
      "informal                  1736 non-null float64\n",
      "hour_earnings             1647 non-null float64\n",
      "USD_hour_earnings         1647 non-null float64\n",
      "log_hour_earnings         1647 non-null float64\n",
      "USD_log_hour_earnings     1647 non-null float64\n",
      "total_hr_worked_week      2617 non-null int64\n",
      "underemp                  1738 non-null float64\n",
      "highest_ISCED_PIAAC       2617 non-null int64\n",
      "years_educ                2616 non-null float64\n",
      "degree_field              613 non-null float64\n",
      "wealth_index              2617 non-null float64\n",
      "overqualified             1974 non-null float64\n",
      "country                   2617 non-null object\n",
      "worked_lastweek           2611 non-null float64\n",
      "dropout                   2593 non-null float64\n",
      "dtypes: float64(75), int64(13), object(1)\n",
      "memory usage: 1.8+ MB\n"
     ]
    }
   ],
   "source": [
    "# Looking for corrupted values. There are none. \n",
    "colstep.info()"
   ]
  },
  {
   "cell_type": "code",
   "execution_count": 13,
   "metadata": {},
   "outputs": [],
   "source": [
    "pd.options.display.max_rows = 999"
   ]
  },
  {
   "cell_type": "markdown",
   "metadata": {},
   "source": [
    "#### 2.1. Addressing null values: "
   ]
  },
  {
   "cell_type": "code",
   "execution_count": 14,
   "metadata": {},
   "outputs": [
    {
     "data": {
      "text/plain": [
       "birth_year                   0\n",
       "hh_size                      0\n",
       "gender                       0\n",
       "age                          0\n",
       "total_hr_worked_week         0\n",
       "highest_ISCED_PIAAC          0\n",
       "wealth_index                 0\n",
       "has_spouse                   0\n",
       "reported_social_status       0\n",
       "house_type                   0\n",
       "country                      0\n",
       "got_pr_transf                0\n",
       "house_beds                   0\n",
       "owns_house                   0\n",
       "house_kitchen                0\n",
       "years_educ                   1\n",
       "part_in_training             4\n",
       "life_satisfaction            5\n",
       "chronic_disease              5\n",
       "healthinsurance              5\n",
       "labor_market_status          6\n",
       "worked_lastweek              6\n",
       "num_outside                  9\n",
       "write_overall                9\n",
       "numeracy_overall             9\n",
       "read_overall                 9\n",
       "comp_outside                10\n",
       "write_outside               10\n",
       "computer_use_overall        10\n",
       "conscientiousness_avg       11\n",
       "openness_av                 11\n",
       "stability_av                11\n",
       "agreeableness_av            11\n",
       "grit_av                     11\n",
       "decision_av                 11\n",
       "hostile_av                  11\n",
       "extraversion_av             11\n",
       "risk                        11\n",
       "has_children                11\n",
       "mother_tongue               11\n",
       "speak_other_languaje        11\n",
       "lives_w_mother              11\n",
       "lives_w_father              11\n",
       "read_outside                11\n",
       "shocks_bef_15               12\n",
       "ses_15                      12\n",
       "dropout                     24\n",
       "highest_formal_ed           24\n",
       "in_school                   25\n",
       "parental_involvement        26\n",
       "BMI                        101\n",
       "BMI_class                  184\n",
       "father_education           427\n",
       "num_work                   638\n",
       "lowwritting_forjob         638\n",
       "occupation_code            639\n",
       "occtype_step               639\n",
       "autonomy_repet_work        640\n",
       "repetitiveness_at_work     640\n",
       "physical_demand_work       640\n",
       "write_work                 640\n",
       "client_contact_work        640\n",
       "comp_work                  640\n",
       "autonomy_at_work           640\n",
       "think_at_work              640\n",
       "read_work                  642\n",
       "overqualified              643\n",
       "think_learn_work           646\n",
       "learn_at_work              646\n",
       "software_use               662\n",
       "mother_education           790\n",
       "firm_econ_act              879\n",
       "underemp                   879\n",
       "job_sector                 880\n",
       "occupation                 881\n",
       "job_type                   881\n",
       "informal                   881\n",
       "job_stable                 908\n",
       "benefits                   908\n",
       "USD_hour_earnings          970\n",
       "log_hour_earnings          970\n",
       "USD_log_hour_earnings      970\n",
       "hour_earnings              970\n",
       "pub_emp                   1621\n",
       "contract                  1621\n",
       "degree_field              2004\n",
       "inactive_status           2024\n",
       "offdays_ill               2132\n",
       "main_work                 2482\n",
       "dtype: int64"
      ]
     },
     "execution_count": 14,
     "metadata": {},
     "output_type": "execute_result"
    }
   ],
   "source": [
    "# Looking for null values \n",
    "colstep.isnull().sum().sort_values()"
   ]
  },
  {
   "cell_type": "code",
   "execution_count": 15,
   "metadata": {},
   "outputs": [
    {
     "data": {
      "text/html": [
       "<div>\n",
       "<style scoped>\n",
       "    .dataframe tbody tr th:only-of-type {\n",
       "        vertical-align: middle;\n",
       "    }\n",
       "\n",
       "    .dataframe tbody tr th {\n",
       "        vertical-align: top;\n",
       "    }\n",
       "\n",
       "    .dataframe thead th {\n",
       "        text-align: right;\n",
       "    }\n",
       "</style>\n",
       "<table border=\"1\" class=\"dataframe\">\n",
       "  <thead>\n",
       "    <tr style=\"text-align: right;\">\n",
       "      <th></th>\n",
       "      <th>main_work</th>\n",
       "      <th>pub_emp</th>\n",
       "      <th>contract</th>\n",
       "      <th>degree_field</th>\n",
       "      <th>inactive_status</th>\n",
       "      <th>offdays_ill</th>\n",
       "    </tr>\n",
       "  </thead>\n",
       "  <tbody>\n",
       "    <tr>\n",
       "      <th>0</th>\n",
       "      <td>NaN</td>\n",
       "      <td>NaN</td>\n",
       "      <td>NaN</td>\n",
       "      <td>NaN</td>\n",
       "      <td>1.0</td>\n",
       "      <td>NaN</td>\n",
       "    </tr>\n",
       "    <tr>\n",
       "      <th>1</th>\n",
       "      <td>NaN</td>\n",
       "      <td>NaN</td>\n",
       "      <td>NaN</td>\n",
       "      <td>53.0</td>\n",
       "      <td>NaN</td>\n",
       "      <td>NaN</td>\n",
       "    </tr>\n",
       "    <tr>\n",
       "      <th>2</th>\n",
       "      <td>NaN</td>\n",
       "      <td>NaN</td>\n",
       "      <td>NaN</td>\n",
       "      <td>NaN</td>\n",
       "      <td>1.0</td>\n",
       "      <td>0.0</td>\n",
       "    </tr>\n",
       "    <tr>\n",
       "      <th>3</th>\n",
       "      <td>NaN</td>\n",
       "      <td>NaN</td>\n",
       "      <td>NaN</td>\n",
       "      <td>NaN</td>\n",
       "      <td>1.0</td>\n",
       "      <td>NaN</td>\n",
       "    </tr>\n",
       "    <tr>\n",
       "      <th>4</th>\n",
       "      <td>NaN</td>\n",
       "      <td>NaN</td>\n",
       "      <td>NaN</td>\n",
       "      <td>NaN</td>\n",
       "      <td>NaN</td>\n",
       "      <td>NaN</td>\n",
       "    </tr>\n",
       "    <tr>\n",
       "      <th>...</th>\n",
       "      <td>...</td>\n",
       "      <td>...</td>\n",
       "      <td>...</td>\n",
       "      <td>...</td>\n",
       "      <td>...</td>\n",
       "      <td>...</td>\n",
       "    </tr>\n",
       "    <tr>\n",
       "      <th>2612</th>\n",
       "      <td>NaN</td>\n",
       "      <td>NaN</td>\n",
       "      <td>NaN</td>\n",
       "      <td>NaN</td>\n",
       "      <td>NaN</td>\n",
       "      <td>NaN</td>\n",
       "    </tr>\n",
       "    <tr>\n",
       "      <th>2613</th>\n",
       "      <td>NaN</td>\n",
       "      <td>NaN</td>\n",
       "      <td>NaN</td>\n",
       "      <td>47.0</td>\n",
       "      <td>NaN</td>\n",
       "      <td>NaN</td>\n",
       "    </tr>\n",
       "    <tr>\n",
       "      <th>2614</th>\n",
       "      <td>NaN</td>\n",
       "      <td>NaN</td>\n",
       "      <td>NaN</td>\n",
       "      <td>NaN</td>\n",
       "      <td>3.0</td>\n",
       "      <td>NaN</td>\n",
       "    </tr>\n",
       "    <tr>\n",
       "      <th>2615</th>\n",
       "      <td>NaN</td>\n",
       "      <td>NaN</td>\n",
       "      <td>NaN</td>\n",
       "      <td>NaN</td>\n",
       "      <td>3.0</td>\n",
       "      <td>NaN</td>\n",
       "    </tr>\n",
       "    <tr>\n",
       "      <th>2616</th>\n",
       "      <td>NaN</td>\n",
       "      <td>NaN</td>\n",
       "      <td>NaN</td>\n",
       "      <td>NaN</td>\n",
       "      <td>3.0</td>\n",
       "      <td>NaN</td>\n",
       "    </tr>\n",
       "  </tbody>\n",
       "</table>\n",
       "<p>2617 rows × 6 columns</p>\n",
       "</div>"
      ],
      "text/plain": [
       "      main_work  pub_emp  contract  degree_field  inactive_status  offdays_ill\n",
       "0           NaN      NaN       NaN           NaN              1.0          NaN\n",
       "1           NaN      NaN       NaN          53.0              NaN          NaN\n",
       "2           NaN      NaN       NaN           NaN              1.0          0.0\n",
       "3           NaN      NaN       NaN           NaN              1.0          NaN\n",
       "4           NaN      NaN       NaN           NaN              NaN          NaN\n",
       "...         ...      ...       ...           ...              ...          ...\n",
       "2612        NaN      NaN       NaN           NaN              NaN          NaN\n",
       "2613        NaN      NaN       NaN          47.0              NaN          NaN\n",
       "2614        NaN      NaN       NaN           NaN              3.0          NaN\n",
       "2615        NaN      NaN       NaN           NaN              3.0          NaN\n",
       "2616        NaN      NaN       NaN           NaN              3.0          NaN\n",
       "\n",
       "[2617 rows x 6 columns]"
      ]
     },
     "execution_count": 15,
     "metadata": {},
     "output_type": "execute_result"
    }
   ],
   "source": [
    "# Exploring columns with the most massive missing values\n",
    "colstep[['main_work', 'pub_emp', 'contract', 'degree_field', 'inactive_status', 'offdays_ill']]"
   ]
  },
  {
   "cell_type": "code",
   "execution_count": 16,
   "metadata": {},
   "outputs": [
    {
     "name": "stderr",
     "output_type": "stream",
     "text": [
      "/Users/vvroseth/opt/anaconda3/lib/python3.7/site-packages/pandas/core/frame.py:4117: SettingWithCopyWarning: \n",
      "A value is trying to be set on a copy of a slice from a DataFrame\n",
      "\n",
      "See the caveats in the documentation: http://pandas.pydata.org/pandas-docs/stable/user_guide/indexing.html#returning-a-view-versus-a-copy\n",
      "  errors=errors,\n"
     ]
    }
   ],
   "source": [
    "# 'main_work' has too many null values that can not be imputed. Therefore, it is unusable \n",
    "colstep.drop(columns = ['main_work'], inplace = True)"
   ]
  },
  {
   "cell_type": "code",
   "execution_count": 17,
   "metadata": {},
   "outputs": [
    {
     "data": {
      "text/plain": [
       "0.0     365\n",
       "2.0      29\n",
       "3.0      22\n",
       "1.0      12\n",
       "28.0     11\n",
       "15.0     10\n",
       "4.0       9\n",
       "8.0       9\n",
       "7.0       6\n",
       "5.0       5\n",
       "20.0      2\n",
       "24.0      1\n",
       "19.0      1\n",
       "14.0      1\n",
       "10.0      1\n",
       "12.0      1\n",
       "Name: offdays_ill, dtype: int64"
      ]
     },
     "execution_count": 17,
     "metadata": {},
     "output_type": "execute_result"
    }
   ],
   "source": [
    "# Only people who reported having a chronic illness answered this question. Therefore, it is safe to impute missing values for zeros. \n",
    "colstep['offdays_ill'].value_counts()"
   ]
  },
  {
   "cell_type": "code",
   "execution_count": 18,
   "metadata": {},
   "outputs": [
    {
     "name": "stderr",
     "output_type": "stream",
     "text": [
      "/Users/vvroseth/opt/anaconda3/lib/python3.7/site-packages/pandas/core/generic.py:6287: SettingWithCopyWarning: \n",
      "A value is trying to be set on a copy of a slice from a DataFrame\n",
      "\n",
      "See the caveats in the documentation: http://pandas.pydata.org/pandas-docs/stable/user_guide/indexing.html#returning-a-view-versus-a-copy\n",
      "  self._update_inplace(new_data)\n"
     ]
    }
   ],
   "source": [
    "colstep['offdays_ill'].fillna(0, inplace = True)"
   ]
  },
  {
   "cell_type": "code",
   "execution_count": 19,
   "metadata": {},
   "outputs": [
    {
     "data": {
      "text/plain": [
       "1.0    212\n",
       "3.0    181\n",
       "2.0     63\n",
       "4.0     52\n",
       "8.0     36\n",
       "5.0     20\n",
       "7.0     18\n",
       "6.0     11\n",
       "Name: inactive_status, dtype: int64"
      ]
     },
     "execution_count": 19,
     "metadata": {},
     "output_type": "execute_result"
    }
   ],
   "source": [
    "# Only 593 people declared themselves innactive, which explains why there are so many missing values. This means I can impute them all for zeros \n",
    "colstep['inactive_status'].value_counts()"
   ]
  },
  {
   "cell_type": "code",
   "execution_count": 20,
   "metadata": {},
   "outputs": [],
   "source": [
    "colstep['inactive_status'].fillna(0, inplace = True)"
   ]
  },
  {
   "cell_type": "code",
   "execution_count": 21,
   "metadata": {},
   "outputs": [
    {
     "data": {
      "text/plain": [
       "False    1555\n",
       "True     1062\n",
       "Name: years_educ, dtype: int64"
      ]
     },
     "execution_count": 21,
     "metadata": {},
     "output_type": "execute_result"
    }
   ],
   "source": [
    "# The degree field has 2004 missing values, or 76% of all values. I'm trying to figure out why. One reason could be that educational attainment is not as high \n",
    "# as it needs to be to have a sectorial specialization. In terms of years of education, it seems that 1062 people have less than 11 years which is the equivalent \n",
    "# of highschool. This, however, does not explain the absence of information for all 2004 values. \n",
    "(colstep['years_educ'] < 11).value_counts()"
   ]
  },
  {
   "cell_type": "code",
   "execution_count": 22,
   "metadata": {},
   "outputs": [],
   "source": [
    "# 'degree_field' has too many null values that can not be imputed. Therefore, it is unusable \n",
    "colstep.drop(columns = ['degree_field'], inplace = True)"
   ]
  },
  {
   "cell_type": "code",
   "execution_count": 23,
   "metadata": {},
   "outputs": [
    {
     "data": {
      "text/plain": [
       "1.0    923\n",
       "2.0    785\n",
       "3.0     27\n",
       "9.0      1\n",
       "Name: job_type, dtype: int64"
      ]
     },
     "execution_count": 23,
     "metadata": {},
     "output_type": "execute_result"
    }
   ],
   "source": [
    "# Exploring whether the null values under contract are related to the type of employment \n",
    "colstep['job_type'].value_counts()"
   ]
  },
  {
   "cell_type": "code",
   "execution_count": 24,
   "metadata": {},
   "outputs": [],
   "source": [
    "# Given that the number of null values is identical to the number of people who did not declare themselves as employed, it is safe to impute the null values for zero\n",
    "colstep['contract'].fillna(0, inplace = True)"
   ]
  },
  {
   "cell_type": "code",
   "execution_count": 25,
   "metadata": {},
   "outputs": [],
   "source": [
    "# The same logic applies to the public employment column \n",
    "colstep['pub_emp'].fillna(0, inplace = True)"
   ]
  },
  {
   "cell_type": "code",
   "execution_count": 26,
   "metadata": {},
   "outputs": [
    {
     "data": {
      "text/plain": [
       "18"
      ]
     },
     "execution_count": 26,
     "metadata": {},
     "output_type": "execute_result"
    }
   ],
   "source": [
    "# Looking at the null values around earnings. \n",
    "colstep[colstep['job_type'] == 1]['hour_earnings'].isnull().sum()"
   ]
  },
  {
   "cell_type": "code",
   "execution_count": 27,
   "metadata": {},
   "outputs": [
    {
     "data": {
      "text/plain": [
       "44"
      ]
     },
     "execution_count": 27,
     "metadata": {},
     "output_type": "execute_result"
    }
   ],
   "source": [
    "colstep[colstep['job_type'] == 2]['hour_earnings'].isnull().sum()"
   ]
  },
  {
   "cell_type": "code",
   "execution_count": 28,
   "metadata": {},
   "outputs": [
    {
     "data": {
      "text/plain": [
       "27"
      ]
     },
     "execution_count": 28,
     "metadata": {},
     "output_type": "execute_result"
    }
   ],
   "source": [
    "colstep[colstep['job_type'] == 3]['hour_earnings'].isnull().sum()"
   ]
  },
  {
   "cell_type": "code",
   "execution_count": 29,
   "metadata": {},
   "outputs": [
    {
     "data": {
      "text/plain": [
       "881"
      ]
     },
     "execution_count": 29,
     "metadata": {},
     "output_type": "execute_result"
    }
   ],
   "source": [
    "colstep['job_type'].isnull().sum()"
   ]
  },
  {
   "cell_type": "code",
   "execution_count": 30,
   "metadata": {},
   "outputs": [
    {
     "data": {
      "text/plain": [
       "1.0    1739\n",
       "3.0     593\n",
       "2.0     279\n",
       "Name: labor_market_status, dtype: int64"
      ]
     },
     "execution_count": 30,
     "metadata": {},
     "output_type": "execute_result"
    }
   ],
   "source": [
    "colstep['labor_market_status'].value_counts()"
   ]
  },
  {
   "cell_type": "code",
   "execution_count": 31,
   "metadata": {},
   "outputs": [
    {
     "data": {
      "text/plain": [
       "2.0    1577\n",
       "1.0    1034\n",
       "Name: worked_lastweek, dtype: int64"
      ]
     },
     "execution_count": 31,
     "metadata": {},
     "output_type": "execute_result"
    }
   ],
   "source": [
    "# Looking at the null values around employment status. It seems that only 1034 worked for somebody who\n",
    "# was not a member of the family \n",
    "colstep['worked_lastweek'].value_counts()"
   ]
  },
  {
   "cell_type": "code",
   "execution_count": 32,
   "metadata": {},
   "outputs": [],
   "source": [
    "# Of those who worked, only 979 did so for an employer. This means that the earning data is mostly for those that were employed in a salaried job\n",
    "# I will inpute those null values for zeros"
   ]
  },
  {
   "cell_type": "code",
   "execution_count": 33,
   "metadata": {},
   "outputs": [],
   "source": [
    "colstep['hour_earnings'].fillna(0, inplace = True)"
   ]
  },
  {
   "cell_type": "code",
   "execution_count": 34,
   "metadata": {},
   "outputs": [
    {
     "data": {
      "text/plain": [
       "1.0    983\n",
       "0.0    726\n",
       "Name: job_stable, dtype: int64"
      ]
     },
     "execution_count": 34,
     "metadata": {},
     "output_type": "execute_result"
    }
   ],
   "source": [
    "colstep['job_stable'].value_counts()"
   ]
  },
  {
   "cell_type": "code",
   "execution_count": 35,
   "metadata": {},
   "outputs": [],
   "source": [
    "# There are 907 null values under job stability. Given that 1577 people reported working in the previous \n",
    "# 7 days week, and we have valid values for 1,710 people in this column, I think it is safe to inpute the\n",
    "# 907 values for 0 as they probably correspond to those who did not work. \n",
    "\n",
    "colstep['job_stable'].fillna(0, inplace = True)"
   ]
  },
  {
   "cell_type": "code",
   "execution_count": 36,
   "metadata": {},
   "outputs": [
    {
     "data": {
      "text/plain": [
       "0.0    1070\n",
       "1.0     639\n",
       "Name: benefits, dtype: int64"
      ]
     },
     "execution_count": 36,
     "metadata": {},
     "output_type": "execute_result"
    }
   ],
   "source": [
    "colstep['benefits'].value_counts()"
   ]
  },
  {
   "cell_type": "code",
   "execution_count": 37,
   "metadata": {},
   "outputs": [],
   "source": [
    "# The same is true for the benefits column  \n",
    "colstep['benefits'].fillna(0, inplace = True)"
   ]
  },
  {
   "cell_type": "code",
   "execution_count": 38,
   "metadata": {},
   "outputs": [
    {
     "data": {
      "text/html": [
       "<div>\n",
       "<style scoped>\n",
       "    .dataframe tbody tr th:only-of-type {\n",
       "        vertical-align: middle;\n",
       "    }\n",
       "\n",
       "    .dataframe tbody tr th {\n",
       "        vertical-align: top;\n",
       "    }\n",
       "\n",
       "    .dataframe thead th {\n",
       "        text-align: right;\n",
       "    }\n",
       "</style>\n",
       "<table border=\"1\" class=\"dataframe\">\n",
       "  <thead>\n",
       "    <tr style=\"text-align: right;\">\n",
       "      <th></th>\n",
       "      <th>firm_econ_act</th>\n",
       "      <th>underemp</th>\n",
       "      <th>job_sector</th>\n",
       "      <th>occupation</th>\n",
       "      <th>informal</th>\n",
       "    </tr>\n",
       "  </thead>\n",
       "  <tbody>\n",
       "    <tr>\n",
       "      <th>0</th>\n",
       "      <td>True</td>\n",
       "      <td>True</td>\n",
       "      <td>True</td>\n",
       "      <td>True</td>\n",
       "      <td>True</td>\n",
       "    </tr>\n",
       "  </tbody>\n",
       "</table>\n",
       "</div>"
      ],
      "text/plain": [
       "   firm_econ_act  underemp  job_sector  occupation  informal\n",
       "0           True      True        True        True      True"
      ]
     },
     "execution_count": 38,
     "metadata": {},
     "output_type": "execute_result"
    }
   ],
   "source": [
    "# Looking at 4 columns that seems to be related and have a similar number of null values. A quick look at \n",
    "# the first 50 rows shows that nulls in job_sector and occupation code do not seem to follow the same \n",
    "# pattern as nulls in other columns \n",
    "colstep[['firm_econ_act', 'underemp', 'job_sector', 'occupation', 'informal']].isnull().head(1)           "
   ]
  },
  {
   "cell_type": "code",
   "execution_count": 39,
   "metadata": {},
   "outputs": [
    {
     "data": {
      "text/html": [
       "<div>\n",
       "<style scoped>\n",
       "    .dataframe tbody tr th:only-of-type {\n",
       "        vertical-align: middle;\n",
       "    }\n",
       "\n",
       "    .dataframe tbody tr th {\n",
       "        vertical-align: top;\n",
       "    }\n",
       "\n",
       "    .dataframe thead th {\n",
       "        text-align: right;\n",
       "    }\n",
       "</style>\n",
       "<table border=\"1\" class=\"dataframe\">\n",
       "  <thead>\n",
       "    <tr style=\"text-align: right;\">\n",
       "      <th></th>\n",
       "      <th>firm_econ_act</th>\n",
       "      <th>underemp</th>\n",
       "      <th>informal</th>\n",
       "    </tr>\n",
       "  </thead>\n",
       "  <tbody>\n",
       "    <tr>\n",
       "      <th>0</th>\n",
       "      <td>True</td>\n",
       "      <td>True</td>\n",
       "      <td>True</td>\n",
       "    </tr>\n",
       "  </tbody>\n",
       "</table>\n",
       "</div>"
      ],
      "text/plain": [
       "   firm_econ_act  underemp  informal\n",
       "0           True      True      True"
      ]
     },
     "execution_count": 39,
     "metadata": {},
     "output_type": "execute_result"
    }
   ],
   "source": [
    "# Looking at 100 values, 50 in the head and 50 in the tail, there seems to be identical patterns in \n",
    "# the missing data\n",
    "colstep[['firm_econ_act', 'underemp', 'informal']].isnull().head(1)"
   ]
  },
  {
   "cell_type": "code",
   "execution_count": 40,
   "metadata": {},
   "outputs": [
    {
     "data": {
      "text/plain": [
       "1.0    1739\n",
       "3.0     593\n",
       "2.0     279\n",
       "Name: labor_market_status, dtype: int64"
      ]
     },
     "execution_count": 40,
     "metadata": {},
     "output_type": "execute_result"
    }
   ],
   "source": [
    "# Looking at the labor market status of respondents. 593 were inactive and 279 were unemployed, which adds \n",
    "# up to 872. I can say confidently that the null values for firm_econ_act, underemployment and informality\n",
    "# can be  inputed for 0 as they correspond to those unemployed or inactive \n",
    "colstep['labor_market_status'].value_counts()"
   ]
  },
  {
   "cell_type": "code",
   "execution_count": 41,
   "metadata": {},
   "outputs": [],
   "source": [
    "colstep['firm_econ_act'].fillna(0, inplace = True)"
   ]
  },
  {
   "cell_type": "code",
   "execution_count": 42,
   "metadata": {},
   "outputs": [],
   "source": [
    "colstep['underemp'].fillna(0, inplace = True)"
   ]
  },
  {
   "cell_type": "code",
   "execution_count": 43,
   "metadata": {},
   "outputs": [],
   "source": [
    "colstep['informal'].fillna(0, inplace = True) "
   ]
  },
  {
   "cell_type": "code",
   "execution_count": 44,
   "metadata": {},
   "outputs": [],
   "source": [
    "# Creating a dataframe for the employed only \n",
    "employed = colstep[colstep['labor_market_status'] == 1]"
   ]
  },
  {
   "cell_type": "code",
   "execution_count": 45,
   "metadata": {},
   "outputs": [
    {
     "data": {
      "text/plain": [
       "job_sector    396\n",
       "occupation      3\n",
       "dtype: int64"
      ]
     },
     "execution_count": 45,
     "metadata": {},
     "output_type": "execute_result"
    }
   ],
   "source": [
    "# Looking at the null values among the unemployed. It seems that the occupation code is mostly absent for\n",
    "# the unemployed, so it is safe to impute those values for zero. \n",
    "employed[['job_sector', 'occupation']].isnull().sum()"
   ]
  },
  {
   "cell_type": "code",
   "execution_count": 46,
   "metadata": {},
   "outputs": [],
   "source": [
    "colstep['occupation'].fillna(0, inplace = True) "
   ]
  },
  {
   "cell_type": "code",
   "execution_count": 47,
   "metadata": {},
   "outputs": [],
   "source": [
    "# Looking at associated questions not included in this dataframe, but included in the survey (m2_q33), it does \n",
    "# appear that the job sector is related to those who reported not working. As such, it is safe to impute\n",
    "# missing values for 999 (o corresponds to armed forces)\n",
    "colstep['job_sector'].fillna(999, inplace = True) "
   ]
  },
  {
   "cell_type": "code",
   "execution_count": 48,
   "metadata": {},
   "outputs": [],
   "source": [
    "# Mother and father education have considerable null values. I think it is best to drop these columns \n",
    "colstep.drop(columns = ['mother_education', 'father_education'], inplace = True)"
   ]
  },
  {
   "cell_type": "code",
   "execution_count": 49,
   "metadata": {},
   "outputs": [],
   "source": [
    "# There are two columns that are redundant and have too many missing values. I'll delete them \n",
    "colstep.drop(columns = ['lowwritting_forjob', 'occupation_code'], inplace = True)"
   ]
  },
  {
   "cell_type": "code",
   "execution_count": 50,
   "metadata": {},
   "outputs": [
    {
     "data": {
      "text/plain": [
       "0       NaN\n",
       "1       2.0\n",
       "2       NaN\n",
       "3       NaN\n",
       "4       3.0\n",
       "       ... \n",
       "2612    3.0\n",
       "2613    NaN\n",
       "2614    NaN\n",
       "2615    NaN\n",
       "2616    NaN\n",
       "Name: autonomy_at_work, Length: 2617, dtype: float64"
      ]
     },
     "execution_count": 50,
     "metadata": {},
     "output_type": "execute_result"
    }
   ],
   "source": [
    "colstep['autonomy_at_work']"
   ]
  },
  {
   "cell_type": "code",
   "execution_count": 51,
   "metadata": {},
   "outputs": [],
   "source": [
    "# Looking at the questionnaire, only people who reported both working during the previous 7 days and \n",
    "# the previous 12 months were asked this portion of the questionnaire. It is therefore appropriate to inpute \n",
    "# these values for 0 as they correspond to people who did not use their skills at work. \n",
    "\n",
    "colstep['num_work'].fillna(0, inplace = True) \n",
    "colstep['occtype_step'].fillna(0, inplace = True) \n",
    "colstep['autonomy_repet_work'].fillna(0, inplace = True)                  \n",
    "colstep['write_work'].fillna(0, inplace = True)              \n",
    "colstep['physical_demand_work'].fillna(0, inplace = True) \n",
    "colstep['repetitiveness_at_work'].fillna(0, inplace = True) \n",
    "colstep['think_at_work'].fillna(0, inplace = True) \n",
    "colstep['comp_work'].fillna(0, inplace = True)\n",
    "colstep['autonomy_at_work'].fillna(0, inplace = True)\n",
    "colstep['client_contact_work'].fillna(0, inplace = True)\n",
    "colstep['read_work'].fillna(0, inplace = True)              \n",
    "colstep['overqualified'].fillna(0, inplace = True)\n",
    "colstep['learn_at_work'].fillna(0, inplace = True)           \n",
    "colstep['think_learn_work'].fillna(0, inplace = True)\n",
    "colstep['software_use'].fillna(0, inplace = True)"
   ]
  },
  {
   "cell_type": "code",
   "execution_count": 52,
   "metadata": {},
   "outputs": [],
   "source": [
    "# Droping parental involvement and BMI class as they have missing values and are not essential to the analysis\n",
    "colstep.drop(columns = ['BMI_class', 'parental_involvement', 'USD_hour_earnings', \n",
    "                        'log_hour_earnings', 'USD_log_hour_earnings'], inplace = True)"
   ]
  },
  {
   "cell_type": "code",
   "execution_count": 53,
   "metadata": {},
   "outputs": [],
   "source": [
    "# The BMI was calculated using questions about height and weight. 101 did not provide their weight. \n",
    "# I think it is safe to replace with the adjacent value\n",
    "\n",
    "colstep['BMI'].fillna(method='ffill', inplace = True)"
   ]
  },
  {
   "cell_type": "code",
   "execution_count": 54,
   "metadata": {},
   "outputs": [],
   "source": [
    "# Making a list of remaining, minor, null values I need to address \n",
    "null_list = ['years_educ', 'healthinsurance', 'life_satisfaction', \n",
    "             'chronic_disease', 'labor_market_status', 'numeracy_overall', 'read_overall', 'write_overall', \n",
    "             'num_outside', 'computer_use_overall', 'comp_outside', 'write_outside', 'stability_av',\n",
    "             'agreeableness_av', 'grit_av', 'openness_av','decision_av', 'hostile_av', 'lives_w_mother',\n",
    "             'has_children','read_outside', 'lives_w_father', 'conscientiousness_avg', 'speak_other_languaje', \n",
    "             'mother_tongue', 'risk', 'extraversion_av', 'ses_15', 'shocks_bef_15',\n",
    "             'in_school']                   "
   ]
  },
  {
   "cell_type": "code",
   "execution_count": 55,
   "metadata": {},
   "outputs": [
    {
     "name": "stdout",
     "output_type": "stream",
     "text": [
      "years_educ\n",
      "11.0    717\n",
      "5.0     253\n",
      "13.0    252\n",
      "8.0     182\n",
      "16.0    137\n",
      "14.0    128\n",
      "10.0    113\n",
      "7.0     106\n",
      "9.0      96\n",
      "4.0      77\n",
      "6.0      74\n",
      "11.5     69\n",
      "12.0     63\n",
      "2.0      59\n",
      "12.5     51\n",
      "3.0      48\n",
      "1.0      31\n",
      "0.0      23\n",
      "13.5     22\n",
      "16.5     22\n",
      "15.0     21\n",
      "14.5     17\n",
      "17.0     16\n",
      "17.5     11\n",
      "15.5     10\n",
      "18.0      8\n",
      "19.0      4\n",
      "18.5      4\n",
      "20.0      2\n",
      "Name: years_educ, dtype: int64\n",
      "healthinsurance\n",
      "2.0     1209\n",
      "1.0     1082\n",
      "3.0      315\n",
      "99.0       6\n",
      "Name: healthinsurance, dtype: int64\n",
      "life_satisfaction\n",
      "10.0    658\n",
      "8.0     618\n",
      "7.0     402\n",
      "9.0     384\n",
      "6.0     209\n",
      "5.0     199\n",
      "4.0      80\n",
      "3.0      34\n",
      "1.0      19\n",
      "2.0       9\n",
      "Name: life_satisfaction, dtype: int64\n",
      "chronic_disease\n",
      "0.0    2127\n",
      "1.0     485\n",
      "Name: chronic_disease, dtype: int64\n",
      "labor_market_status\n",
      "1.0    1739\n",
      "3.0     593\n",
      "2.0     279\n",
      "Name: labor_market_status, dtype: int64\n",
      "numeracy_overall\n",
      "2.0    941\n",
      "1.0    937\n",
      "3.0    571\n",
      "0.0    159\n",
      "Name: numeracy_overall, dtype: int64\n",
      "read_overall\n",
      "3.0    951\n",
      "1.0    810\n",
      "2.0    583\n",
      "0.0    264\n",
      "Name: read_overall, dtype: int64\n",
      "write_overall\n",
      "1.0    1374\n",
      "0.0     513\n",
      "2.0     468\n",
      "3.0     253\n",
      "Name: write_overall, dtype: int64\n",
      "num_outside\n",
      "1.0    1137\n",
      "2.0     714\n",
      "3.0     474\n",
      "0.0     283\n",
      "Name: num_outside, dtype: int64\n",
      "computer_use_overall\n",
      "0.0    1241\n",
      "3.0     902\n",
      "2.0     238\n",
      "1.0     226\n",
      "Name: computer_use_overall, dtype: int64\n",
      "comp_outside\n",
      "0.0    1291\n",
      "3.0     799\n",
      "2.0     272\n",
      "1.0     245\n",
      "Name: comp_outside, dtype: int64\n",
      "write_outside\n",
      "1.0    1300\n",
      "0.0     664\n",
      "2.0     415\n",
      "3.0     228\n",
      "Name: write_outside, dtype: int64\n",
      "stability_av\n",
      "2.666667    488\n",
      "2.000000    454\n",
      "2.333333    353\n",
      "3.000000    330\n",
      "3.333333    260\n",
      "1.666667    224\n",
      "3.666667    186\n",
      "1.333333    136\n",
      "1.000000     95\n",
      "4.000000     80\n",
      "Name: stability_av, dtype: int64\n",
      "agreeableness_av\n",
      "3.333333    581\n",
      "3.000000    491\n",
      "4.000000    474\n",
      "2.666667    379\n",
      "3.666667    354\n",
      "2.333333    207\n",
      "2.000000     96\n",
      "1.666667     21\n",
      "1.333333      3\n",
      "Name: agreeableness_av, dtype: int64\n",
      "grit_av\n",
      "3.333333    534\n",
      "3.000000    531\n",
      "2.666667    469\n",
      "2.333333    315\n",
      "3.666667    258\n",
      "4.000000    247\n",
      "2.000000    164\n",
      "1.666667     72\n",
      "1.333333     12\n",
      "1.000000      4\n",
      "Name: grit_av, dtype: int64\n",
      "openness_av\n",
      "3.333333    770\n",
      "3.000000    527\n",
      "3.666667    361\n",
      "2.666667    355\n",
      "4.000000    339\n",
      "2.333333    157\n",
      "2.000000     70\n",
      "1.666667     17\n",
      "1.333333      8\n",
      "1.000000      2\n",
      "Name: openness_av, dtype: int64\n",
      "decision_av\n",
      "3.50    426\n",
      "3.25    400\n",
      "3.00    371\n",
      "4.00    296\n",
      "2.50    289\n",
      "2.75    280\n",
      "3.75    233\n",
      "2.25    165\n",
      "2.00     85\n",
      "1.75     38\n",
      "1.50     19\n",
      "1.25      3\n",
      "1.00      1\n",
      "Name: decision_av, dtype: int64\n",
      "hostile_av\n",
      "1.5    761\n",
      "2.0    724\n",
      "1.0    686\n",
      "2.5    223\n",
      "3.0    188\n",
      "3.5     15\n",
      "4.0      9\n",
      "Name: hostile_av, dtype: int64\n",
      "lives_w_mother\n",
      "2.0    1828\n",
      "1.0     778\n",
      "Name: lives_w_mother, dtype: int64\n",
      "has_children\n",
      "1.0    1421\n",
      "0.0    1185\n",
      "Name: has_children, dtype: int64\n",
      "read_outside\n",
      "3.0    890\n",
      "1.0    856\n",
      "2.0    533\n",
      "0.0    327\n",
      "Name: read_outside, dtype: int64\n",
      "lives_w_father\n",
      "2.0    2190\n",
      "1.0     416\n",
      "Name: lives_w_father, dtype: int64\n",
      "conscientiousness_avg\n",
      "3.666667    673\n",
      "3.333333    571\n",
      "3.000000    544\n",
      "4.000000    388\n",
      "2.666667    221\n",
      "2.333333    165\n",
      "2.000000     32\n",
      "1.666667     11\n",
      "1.333333      1\n",
      "Name: conscientiousness_avg, dtype: int64\n",
      "speak_other_languaje\n",
      "2.0    2489\n",
      "1.0     117\n",
      "Name: speak_other_languaje, dtype: int64\n",
      "mother_tongue\n",
      "1.0    2601\n",
      "0.0       5\n",
      "Name: mother_tongue, dtype: int64\n",
      "risk\n",
      "1.0    1880\n",
      "4.0     317\n",
      "2.0     262\n",
      "3.0     147\n",
      "Name: risk, dtype: int64\n",
      "extraversion_av\n",
      "3.000000    541\n",
      "3.666667    459\n",
      "3.333333    432\n",
      "2.666667    320\n",
      "2.333333    317\n",
      "4.000000    243\n",
      "2.000000    148\n",
      "1.666667     73\n",
      "1.333333     57\n",
      "1.000000     16\n",
      "Name: extraversion_av, dtype: int64\n",
      "ses_15\n",
      "5.0     616\n",
      "4.0     486\n",
      "3.0     423\n",
      "6.0     319\n",
      "2.0     252\n",
      "7.0     211\n",
      "1.0     185\n",
      "8.0      85\n",
      "10.0     18\n",
      "9.0      10\n",
      "Name: ses_15, dtype: int64\n",
      "shocks_bef_15\n",
      "0.0    1346\n",
      "1.0    1259\n",
      "Name: shocks_bef_15, dtype: int64\n",
      "in_school\n",
      "2.0    2116\n",
      "1.0     476\n",
      "Name: in_school, dtype: int64\n"
     ]
    }
   ],
   "source": [
    "# getting the distribution of values in each to decide how to address each \n",
    "for variable in null_list: \n",
    "    print (variable)\n",
    "    print (colstep[variable].value_counts())"
   ]
  },
  {
   "cell_type": "code",
   "execution_count": 56,
   "metadata": {},
   "outputs": [],
   "source": [
    "# Developing a list of variables with nulls to be replaced by zero\n",
    "replace_wzero = ['job_type','years_educ','chronic_disease', 'numeracy_overall', 'read_overall',\n",
    "                 'write_overall', 'num_outside', 'computer_use_overall', 'comp_outside', \n",
    "                 'write_outside','read_outside', 'dropout', 'in_school']    "
   ]
  },
  {
   "cell_type": "code",
   "execution_count": 57,
   "metadata": {},
   "outputs": [],
   "source": [
    "# Replacing with zero \n",
    "for variable in replace_wzero: \n",
    "    colstep[variable].fillna(0, inplace = True) "
   ]
  },
  {
   "cell_type": "code",
   "execution_count": 58,
   "metadata": {},
   "outputs": [],
   "source": [
    "# Developing a list of variables to fill with value of adjacent column \n",
    "replace_wffil = ['labor_market_status', 'lives_w_mother','has_children', 'lives_w_father',\n",
    "                 'speak_other_languaje', 'mother_tongue', 'ses_15', 'shocks_bef_15', 'stability_av',\n",
    "                 'agreeableness_av', 'grit_av', 'openness_av','decision_av', 'hostile_av', \n",
    "                 'conscientiousness_avg', 'risk', 'extraversion_av', 'life_satisfaction', \n",
    "                 'part_in_training', 'healthinsurance', 'worked_lastweek']          "
   ]
  },
  {
   "cell_type": "code",
   "execution_count": 59,
   "metadata": {},
   "outputs": [],
   "source": [
    "# Replacing with adjacent value \n",
    "for variable in replace_wffil: \n",
    "    colstep[variable].fillna(method='ffill', inplace = True)"
   ]
  },
  {
   "cell_type": "code",
   "execution_count": 60,
   "metadata": {},
   "outputs": [
    {
     "data": {
      "text/plain": [
       "birth_year                 0\n",
       "chronic_disease            0\n",
       "has_spouse                 0\n",
       "age                        0\n",
       "gender                     0\n",
       "hh_size                    0\n",
       "has_children               0\n",
       "risk                       0\n",
       "hostile_av                 0\n",
       "decision_av                0\n",
       "grit_av                    0\n",
       "agreeableness_av           0\n",
       "stability_av               0\n",
       "openness_av                0\n",
       "conscientiousness_avg      0\n",
       "extraversion_av            0\n",
       "shocks_bef_15              0\n",
       "BMI                        0\n",
       "mother_tongue              0\n",
       "labor_market_status        0\n",
       "country                    0\n",
       "overqualified              0\n",
       "wealth_index               0\n",
       "years_educ                 0\n",
       "highest_ISCED_PIAAC        0\n",
       "underemp                   0\n",
       "total_hr_worked_week       0\n",
       "physical_demand_work       0\n",
       "hour_earnings              0\n",
       "benefits                   0\n",
       "contract                   0\n",
       "job_type                   0\n",
       "pub_emp                    0\n",
       "job_stable                 0\n",
       "occtype_step               0\n",
       "inactive_status            0\n",
       "informal                   0\n",
       "autonomy_repet_work        0\n",
       "repetitiveness_at_work     0\n",
       "autonomy_at_work           0\n",
       "speak_other_languaje       0\n",
       "occupation                 0\n",
       "firm_econ_act              0\n",
       "healthinsurance            0\n",
       "offdays_ill                0\n",
       "life_satisfaction          0\n",
       "part_in_training           0\n",
       "job_sector                 0\n",
       "got_pr_transf              0\n",
       "reported_social_status     0\n",
       "house_kitchen              0\n",
       "house_beds                 0\n",
       "owns_house                 0\n",
       "house_type                 0\n",
       "in_school                  0\n",
       "lives_w_mother             0\n",
       "worked_lastweek            0\n",
       "lives_w_father             0\n",
       "read_work                  0\n",
       "think_learn_work           0\n",
       "learn_at_work              0\n",
       "think_at_work              0\n",
       "software_use               0\n",
       "computer_use_overall       0\n",
       "comp_outside               0\n",
       "comp_work                  0\n",
       "ses_15                     0\n",
       "client_contact_work        0\n",
       "num_outside                0\n",
       "num_work                   0\n",
       "write_overall              0\n",
       "write_outside              0\n",
       "write_work                 0\n",
       "read_overall               0\n",
       "read_outside               0\n",
       "numeracy_overall           0\n",
       "dropout                    0\n",
       "highest_formal_ed         24\n",
       "dtype: int64"
      ]
     },
     "execution_count": 60,
     "metadata": {},
     "output_type": "execute_result"
    }
   ],
   "source": [
    "# Looking at the rema \n",
    "colstep.isnull().sum().sort_values()"
   ]
  },
  {
   "cell_type": "code",
   "execution_count": 61,
   "metadata": {},
   "outputs": [
    {
     "data": {
      "text/plain": [
       "0"
      ]
     },
     "execution_count": 61,
     "metadata": {},
     "output_type": "execute_result"
    }
   ],
   "source": [
    "# Given that I have two columns that give me the same information, I am droping the one that has null values.\n",
    "colstep['highest_ISCED_PIAAC'].isnull().sum()"
   ]
  },
  {
   "cell_type": "code",
   "execution_count": 62,
   "metadata": {},
   "outputs": [],
   "source": [
    "colstep.drop(columns=['highest_formal_ed'], inplace = True)"
   ]
  },
  {
   "cell_type": "code",
   "execution_count": 63,
   "metadata": {},
   "outputs": [
    {
     "data": {
      "text/plain": [
       "(2617, 77)"
      ]
     },
     "execution_count": 63,
     "metadata": {},
     "output_type": "execute_result"
    }
   ],
   "source": [
    "# Looking at the resulting shape after deleting massive null columns \n",
    "colstep.shape"
   ]
  },
  {
   "cell_type": "markdown",
   "metadata": {},
   "source": [
    "#### 2.2. Identifying data errors: "
   ]
  },
  {
   "cell_type": "code",
   "execution_count": 64,
   "metadata": {},
   "outputs": [
    {
     "data": {
      "text/html": [
       "<div>\n",
       "<style scoped>\n",
       "    .dataframe tbody tr th:only-of-type {\n",
       "        vertical-align: middle;\n",
       "    }\n",
       "\n",
       "    .dataframe tbody tr th {\n",
       "        vertical-align: top;\n",
       "    }\n",
       "\n",
       "    .dataframe thead th {\n",
       "        text-align: right;\n",
       "    }\n",
       "</style>\n",
       "<table border=\"1\" class=\"dataframe\">\n",
       "  <thead>\n",
       "    <tr style=\"text-align: right;\">\n",
       "      <th></th>\n",
       "      <th>birth_year</th>\n",
       "      <th>in_school</th>\n",
       "      <th>house_type</th>\n",
       "      <th>owns_house</th>\n",
       "      <th>house_beds</th>\n",
       "      <th>house_kitchen</th>\n",
       "      <th>reported_social_status</th>\n",
       "      <th>got_pr_transf</th>\n",
       "      <th>job_sector</th>\n",
       "      <th>part_in_training</th>\n",
       "      <th>...</th>\n",
       "      <th>informal</th>\n",
       "      <th>hour_earnings</th>\n",
       "      <th>total_hr_worked_week</th>\n",
       "      <th>underemp</th>\n",
       "      <th>highest_ISCED_PIAAC</th>\n",
       "      <th>years_educ</th>\n",
       "      <th>wealth_index</th>\n",
       "      <th>overqualified</th>\n",
       "      <th>worked_lastweek</th>\n",
       "      <th>dropout</th>\n",
       "    </tr>\n",
       "  </thead>\n",
       "  <tbody>\n",
       "    <tr>\n",
       "      <th>count</th>\n",
       "      <td>2617.000000</td>\n",
       "      <td>2617.000000</td>\n",
       "      <td>2617.000000</td>\n",
       "      <td>2617.000000</td>\n",
       "      <td>2617.000000</td>\n",
       "      <td>2617.000000</td>\n",
       "      <td>2617.000000</td>\n",
       "      <td>2617.000000</td>\n",
       "      <td>2617.000000</td>\n",
       "      <td>2617.000000</td>\n",
       "      <td>...</td>\n",
       "      <td>2617.000000</td>\n",
       "      <td>2617.000000</td>\n",
       "      <td>2617.000000</td>\n",
       "      <td>2617.000000</td>\n",
       "      <td>2617.000000</td>\n",
       "      <td>2617.000000</td>\n",
       "      <td>2617.000000</td>\n",
       "      <td>2617.000000</td>\n",
       "      <td>2617.000000</td>\n",
       "      <td>2617.000000</td>\n",
       "    </tr>\n",
       "    <tr>\n",
       "      <th>mean</th>\n",
       "      <td>2012.352694</td>\n",
       "      <td>1.799006</td>\n",
       "      <td>1.875812</td>\n",
       "      <td>3.463890</td>\n",
       "      <td>2.282384</td>\n",
       "      <td>1.103554</td>\n",
       "      <td>2.369507</td>\n",
       "      <td>1.818112</td>\n",
       "      <td>688.632404</td>\n",
       "      <td>1.845243</td>\n",
       "      <td>...</td>\n",
       "      <td>0.419182</td>\n",
       "      <td>3966.811915</td>\n",
       "      <td>30.360718</td>\n",
       "      <td>0.127245</td>\n",
       "      <td>2.739014</td>\n",
       "      <td>9.939243</td>\n",
       "      <td>-0.097332</td>\n",
       "      <td>0.074131</td>\n",
       "      <td>1.602981</td>\n",
       "      <td>0.306076</td>\n",
       "    </tr>\n",
       "    <tr>\n",
       "      <th>std</th>\n",
       "      <td>504.529562</td>\n",
       "      <td>0.423993</td>\n",
       "      <td>1.039480</td>\n",
       "      <td>2.291858</td>\n",
       "      <td>0.967815</td>\n",
       "      <td>0.538622</td>\n",
       "      <td>0.886030</td>\n",
       "      <td>0.385826</td>\n",
       "      <td>323.165206</td>\n",
       "      <td>0.361742</td>\n",
       "      <td>...</td>\n",
       "      <td>0.493520</td>\n",
       "      <td>10917.150397</td>\n",
       "      <td>29.157601</td>\n",
       "      <td>0.333311</td>\n",
       "      <td>1.788806</td>\n",
       "      <td>3.855069</td>\n",
       "      <td>0.972718</td>\n",
       "      <td>1.240502</td>\n",
       "      <td>0.489374</td>\n",
       "      <td>0.460950</td>\n",
       "    </tr>\n",
       "    <tr>\n",
       "      <th>min</th>\n",
       "      <td>1947.000000</td>\n",
       "      <td>0.000000</td>\n",
       "      <td>1.000000</td>\n",
       "      <td>1.000000</td>\n",
       "      <td>1.000000</td>\n",
       "      <td>1.000000</td>\n",
       "      <td>1.000000</td>\n",
       "      <td>1.000000</td>\n",
       "      <td>11.000000</td>\n",
       "      <td>1.000000</td>\n",
       "      <td>...</td>\n",
       "      <td>0.000000</td>\n",
       "      <td>0.000000</td>\n",
       "      <td>0.000000</td>\n",
       "      <td>0.000000</td>\n",
       "      <td>0.000000</td>\n",
       "      <td>0.000000</td>\n",
       "      <td>-3.174085</td>\n",
       "      <td>-4.000000</td>\n",
       "      <td>1.000000</td>\n",
       "      <td>0.000000</td>\n",
       "    </tr>\n",
       "    <tr>\n",
       "      <th>25%</th>\n",
       "      <td>1964.000000</td>\n",
       "      <td>2.000000</td>\n",
       "      <td>1.000000</td>\n",
       "      <td>1.000000</td>\n",
       "      <td>2.000000</td>\n",
       "      <td>1.000000</td>\n",
       "      <td>2.000000</td>\n",
       "      <td>2.000000</td>\n",
       "      <td>471.000000</td>\n",
       "      <td>2.000000</td>\n",
       "      <td>...</td>\n",
       "      <td>0.000000</td>\n",
       "      <td>0.000000</td>\n",
       "      <td>0.000000</td>\n",
       "      <td>0.000000</td>\n",
       "      <td>1.000000</td>\n",
       "      <td>7.000000</td>\n",
       "      <td>-0.766078</td>\n",
       "      <td>0.000000</td>\n",
       "      <td>1.000000</td>\n",
       "      <td>0.000000</td>\n",
       "    </tr>\n",
       "    <tr>\n",
       "      <th>50%</th>\n",
       "      <td>1977.000000</td>\n",
       "      <td>2.000000</td>\n",
       "      <td>1.000000</td>\n",
       "      <td>3.000000</td>\n",
       "      <td>2.000000</td>\n",
       "      <td>1.000000</td>\n",
       "      <td>2.000000</td>\n",
       "      <td>2.000000</td>\n",
       "      <td>842.000000</td>\n",
       "      <td>2.000000</td>\n",
       "      <td>...</td>\n",
       "      <td>0.000000</td>\n",
       "      <td>1989.945557</td>\n",
       "      <td>28.000000</td>\n",
       "      <td>0.000000</td>\n",
       "      <td>3.000000</td>\n",
       "      <td>11.000000</td>\n",
       "      <td>-0.036469</td>\n",
       "      <td>0.000000</td>\n",
       "      <td>2.000000</td>\n",
       "      <td>0.000000</td>\n",
       "    </tr>\n",
       "    <tr>\n",
       "      <th>75%</th>\n",
       "      <td>1987.000000</td>\n",
       "      <td>2.000000</td>\n",
       "      <td>3.000000</td>\n",
       "      <td>6.000000</td>\n",
       "      <td>3.000000</td>\n",
       "      <td>1.000000</td>\n",
       "      <td>3.000000</td>\n",
       "      <td>2.000000</td>\n",
       "      <td>999.000000</td>\n",
       "      <td>2.000000</td>\n",
       "      <td>...</td>\n",
       "      <td>1.000000</td>\n",
       "      <td>3925.584473</td>\n",
       "      <td>54.000000</td>\n",
       "      <td>0.000000</td>\n",
       "      <td>3.000000</td>\n",
       "      <td>12.500000</td>\n",
       "      <td>0.679333</td>\n",
       "      <td>1.000000</td>\n",
       "      <td>2.000000</td>\n",
       "      <td>1.000000</td>\n",
       "    </tr>\n",
       "    <tr>\n",
       "      <th>max</th>\n",
       "      <td>8888.000000</td>\n",
       "      <td>2.000000</td>\n",
       "      <td>5.000000</td>\n",
       "      <td>6.000000</td>\n",
       "      <td>9.000000</td>\n",
       "      <td>5.000000</td>\n",
       "      <td>7.000000</td>\n",
       "      <td>2.000000</td>\n",
       "      <td>999.000000</td>\n",
       "      <td>2.000000</td>\n",
       "      <td>...</td>\n",
       "      <td>1.000000</td>\n",
       "      <td>225287.359375</td>\n",
       "      <td>133.000000</td>\n",
       "      <td>1.000000</td>\n",
       "      <td>10.000000</td>\n",
       "      <td>20.000000</td>\n",
       "      <td>1.846256</td>\n",
       "      <td>5.000000</td>\n",
       "      <td>2.000000</td>\n",
       "      <td>1.000000</td>\n",
       "    </tr>\n",
       "  </tbody>\n",
       "</table>\n",
       "<p>8 rows × 76 columns</p>\n",
       "</div>"
      ],
      "text/plain": [
       "        birth_year    in_school   house_type   owns_house   house_beds  \\\n",
       "count  2617.000000  2617.000000  2617.000000  2617.000000  2617.000000   \n",
       "mean   2012.352694     1.799006     1.875812     3.463890     2.282384   \n",
       "std     504.529562     0.423993     1.039480     2.291858     0.967815   \n",
       "min    1947.000000     0.000000     1.000000     1.000000     1.000000   \n",
       "25%    1964.000000     2.000000     1.000000     1.000000     2.000000   \n",
       "50%    1977.000000     2.000000     1.000000     3.000000     2.000000   \n",
       "75%    1987.000000     2.000000     3.000000     6.000000     3.000000   \n",
       "max    8888.000000     2.000000     5.000000     6.000000     9.000000   \n",
       "\n",
       "       house_kitchen  reported_social_status  got_pr_transf   job_sector  \\\n",
       "count    2617.000000             2617.000000    2617.000000  2617.000000   \n",
       "mean        1.103554                2.369507       1.818112   688.632404   \n",
       "std         0.538622                0.886030       0.385826   323.165206   \n",
       "min         1.000000                1.000000       1.000000    11.000000   \n",
       "25%         1.000000                2.000000       2.000000   471.000000   \n",
       "50%         1.000000                2.000000       2.000000   842.000000   \n",
       "75%         1.000000                3.000000       2.000000   999.000000   \n",
       "max         5.000000                7.000000       2.000000   999.000000   \n",
       "\n",
       "       part_in_training  ...     informal  hour_earnings  \\\n",
       "count       2617.000000  ...  2617.000000    2617.000000   \n",
       "mean           1.845243  ...     0.419182    3966.811915   \n",
       "std            0.361742  ...     0.493520   10917.150397   \n",
       "min            1.000000  ...     0.000000       0.000000   \n",
       "25%            2.000000  ...     0.000000       0.000000   \n",
       "50%            2.000000  ...     0.000000    1989.945557   \n",
       "75%            2.000000  ...     1.000000    3925.584473   \n",
       "max            2.000000  ...     1.000000  225287.359375   \n",
       "\n",
       "       total_hr_worked_week     underemp  highest_ISCED_PIAAC   years_educ  \\\n",
       "count           2617.000000  2617.000000          2617.000000  2617.000000   \n",
       "mean              30.360718     0.127245             2.739014     9.939243   \n",
       "std               29.157601     0.333311             1.788806     3.855069   \n",
       "min                0.000000     0.000000             0.000000     0.000000   \n",
       "25%                0.000000     0.000000             1.000000     7.000000   \n",
       "50%               28.000000     0.000000             3.000000    11.000000   \n",
       "75%               54.000000     0.000000             3.000000    12.500000   \n",
       "max              133.000000     1.000000            10.000000    20.000000   \n",
       "\n",
       "       wealth_index  overqualified  worked_lastweek      dropout  \n",
       "count   2617.000000    2617.000000      2617.000000  2617.000000  \n",
       "mean      -0.097332       0.074131         1.602981     0.306076  \n",
       "std        0.972718       1.240502         0.489374     0.460950  \n",
       "min       -3.174085      -4.000000         1.000000     0.000000  \n",
       "25%       -0.766078       0.000000         1.000000     0.000000  \n",
       "50%       -0.036469       0.000000         2.000000     0.000000  \n",
       "75%        0.679333       1.000000         2.000000     1.000000  \n",
       "max        1.846256       5.000000         2.000000     1.000000  \n",
       "\n",
       "[8 rows x 76 columns]"
      ]
     },
     "execution_count": 64,
     "metadata": {},
     "output_type": "execute_result"
    }
   ],
   "source": [
    "# Looking for errors through min and max values\n",
    "colstep.describe()"
   ]
  },
  {
   "cell_type": "code",
   "execution_count": 65,
   "metadata": {},
   "outputs": [
    {
     "data": {
      "text/plain": [
       "77      57\n",
       "184     52\n",
       "246     36\n",
       "580     38\n",
       "589     16\n",
       "831     20\n",
       "878     64\n",
       "888     43\n",
       "1320    56\n",
       "1973    48\n",
       "2083    57\n",
       "2246    35\n",
       "2369    32\n",
       "2513    41\n",
       "Name: age, dtype: int64"
      ]
     },
     "execution_count": 65,
     "metadata": {},
     "output_type": "execute_result"
    }
   ],
   "source": [
    "# Birth year has strange maximum values, but I have the age for all values. Therefore I do not need the year of birth anymore.  \n",
    "colstep[colstep['birth_year'] > 2000]['age']"
   ]
  },
  {
   "cell_type": "code",
   "execution_count": 66,
   "metadata": {},
   "outputs": [],
   "source": [
    "colstep.drop(columns=['birth_year'], inplace=True)"
   ]
  },
  {
   "cell_type": "code",
   "execution_count": 67,
   "metadata": {},
   "outputs": [
    {
     "data": {
      "text/plain": [
       "(2617, 76)"
      ]
     },
     "execution_count": 67,
     "metadata": {},
     "output_type": "execute_result"
    }
   ],
   "source": [
    "colstep.shape"
   ]
  },
  {
   "cell_type": "code",
   "execution_count": 68,
   "metadata": {},
   "outputs": [],
   "source": [
    "# Organizing transf into one column for public transfers \n",
    "transf = Colombia[['m1b_q21_1','m1b_q21_2', 'm1b_q21_3', 'm1b_q21_4', 'm1b_q21_5', 'm1b_q21_6',\n",
    "       'm1b_q21_7', 'm1b_q21_8', 'm1b_q21_9', 'm1b_q21_10']]"
   ]
  },
  {
   "cell_type": "code",
   "execution_count": 69,
   "metadata": {},
   "outputs": [],
   "source": [
    "# No is shown as 2 and I need it as 0 to condense just by adding all columns \n",
    "transf = transf.replace(2,0)"
   ]
  },
  {
   "cell_type": "code",
   "execution_count": 70,
   "metadata": {},
   "outputs": [],
   "source": [
    "# Adding all transfer columns \n",
    "transf ['got_pu_transf'] = transf['m1b_q21_1'] + transf['m1b_q21_2'] + transf['m1b_q21_3'] + transf[ 'm1b_q21_4'] + transf['m1b_q21_5'] + transf['m1b_q21_6'] + transf['m1b_q21_7'] + transf['m1b_q21_8'] + transf['m1b_q21_9'] + transf['m1b_q21_10']"
   ]
  },
  {
   "cell_type": "code",
   "execution_count": 71,
   "metadata": {},
   "outputs": [
    {
     "data": {
      "text/html": [
       "<div>\n",
       "<style scoped>\n",
       "    .dataframe tbody tr th:only-of-type {\n",
       "        vertical-align: middle;\n",
       "    }\n",
       "\n",
       "    .dataframe tbody tr th {\n",
       "        vertical-align: top;\n",
       "    }\n",
       "\n",
       "    .dataframe thead th {\n",
       "        text-align: right;\n",
       "    }\n",
       "</style>\n",
       "<table border=\"1\" class=\"dataframe\">\n",
       "  <thead>\n",
       "    <tr style=\"text-align: right;\">\n",
       "      <th></th>\n",
       "      <th>m1b_q21_1</th>\n",
       "      <th>m1b_q21_2</th>\n",
       "      <th>m1b_q21_3</th>\n",
       "      <th>m1b_q21_4</th>\n",
       "      <th>m1b_q21_5</th>\n",
       "      <th>m1b_q21_6</th>\n",
       "      <th>m1b_q21_7</th>\n",
       "      <th>m1b_q21_8</th>\n",
       "      <th>m1b_q21_9</th>\n",
       "      <th>m1b_q21_10</th>\n",
       "      <th>got_pu_transf</th>\n",
       "    </tr>\n",
       "  </thead>\n",
       "  <tbody>\n",
       "    <tr>\n",
       "      <th>0</th>\n",
       "      <td>0</td>\n",
       "      <td>0</td>\n",
       "      <td>0</td>\n",
       "      <td>0</td>\n",
       "      <td>0</td>\n",
       "      <td>0</td>\n",
       "      <td>0</td>\n",
       "      <td>0</td>\n",
       "      <td>0</td>\n",
       "      <td>1</td>\n",
       "      <td>1</td>\n",
       "    </tr>\n",
       "    <tr>\n",
       "      <th>1</th>\n",
       "      <td>0</td>\n",
       "      <td>0</td>\n",
       "      <td>0</td>\n",
       "      <td>0</td>\n",
       "      <td>0</td>\n",
       "      <td>0</td>\n",
       "      <td>0</td>\n",
       "      <td>0</td>\n",
       "      <td>0</td>\n",
       "      <td>0</td>\n",
       "      <td>0</td>\n",
       "    </tr>\n",
       "    <tr>\n",
       "      <th>2</th>\n",
       "      <td>0</td>\n",
       "      <td>0</td>\n",
       "      <td>0</td>\n",
       "      <td>0</td>\n",
       "      <td>0</td>\n",
       "      <td>0</td>\n",
       "      <td>0</td>\n",
       "      <td>0</td>\n",
       "      <td>0</td>\n",
       "      <td>1</td>\n",
       "      <td>1</td>\n",
       "    </tr>\n",
       "    <tr>\n",
       "      <th>3</th>\n",
       "      <td>0</td>\n",
       "      <td>0</td>\n",
       "      <td>0</td>\n",
       "      <td>0</td>\n",
       "      <td>0</td>\n",
       "      <td>0</td>\n",
       "      <td>0</td>\n",
       "      <td>0</td>\n",
       "      <td>0</td>\n",
       "      <td>0</td>\n",
       "      <td>0</td>\n",
       "    </tr>\n",
       "    <tr>\n",
       "      <th>4</th>\n",
       "      <td>0</td>\n",
       "      <td>0</td>\n",
       "      <td>0</td>\n",
       "      <td>0</td>\n",
       "      <td>0</td>\n",
       "      <td>0</td>\n",
       "      <td>0</td>\n",
       "      <td>0</td>\n",
       "      <td>0</td>\n",
       "      <td>0</td>\n",
       "      <td>0</td>\n",
       "    </tr>\n",
       "  </tbody>\n",
       "</table>\n",
       "</div>"
      ],
      "text/plain": [
       "   m1b_q21_1  m1b_q21_2  m1b_q21_3  m1b_q21_4  m1b_q21_5  m1b_q21_6  \\\n",
       "0          0          0          0          0          0          0   \n",
       "1          0          0          0          0          0          0   \n",
       "2          0          0          0          0          0          0   \n",
       "3          0          0          0          0          0          0   \n",
       "4          0          0          0          0          0          0   \n",
       "\n",
       "   m1b_q21_7  m1b_q21_8  m1b_q21_9  m1b_q21_10  got_pu_transf  \n",
       "0          0          0          0           1              1  \n",
       "1          0          0          0           0              0  \n",
       "2          0          0          0           1              1  \n",
       "3          0          0          0           0              0  \n",
       "4          0          0          0           0              0  "
      ]
     },
     "execution_count": 71,
     "metadata": {},
     "output_type": "execute_result"
    }
   ],
   "source": [
    "transf.head()"
   ]
  },
  {
   "cell_type": "code",
   "execution_count": 72,
   "metadata": {},
   "outputs": [],
   "source": [
    "# Concatenating transfers column to subset dataframe \n",
    "colstep = pd.concat([colstep, \n",
    "                  transf['got_pu_transf']],\n",
    "                  axis = 1)"
   ]
  },
  {
   "cell_type": "code",
   "execution_count": 73,
   "metadata": {},
   "outputs": [
    {
     "data": {
      "text/plain": [
       "0    1682\n",
       "1     719\n",
       "2     174\n",
       "3      36\n",
       "4       6\n",
       "Name: got_pu_transf, dtype: int64"
      ]
     },
     "execution_count": 73,
     "metadata": {},
     "output_type": "execute_result"
    }
   ],
   "source": [
    "# Checking the distribution of values\n",
    "colstep['got_pu_transf'].value_counts()"
   ]
  },
  {
   "cell_type": "code",
   "execution_count": 90,
   "metadata": {},
   "outputs": [],
   "source": [
    "# Merging all values bigger than 1 as 1 \n",
    "colstep['got_pu_transf'].replace(2,1, inplace=True)"
   ]
  },
  {
   "cell_type": "code",
   "execution_count": 75,
   "metadata": {},
   "outputs": [],
   "source": [
    "colstep['got_pu_transf'].replace(3,1, inplace=True)"
   ]
  },
  {
   "cell_type": "code",
   "execution_count": 76,
   "metadata": {},
   "outputs": [],
   "source": [
    "colstep['got_pu_transf'].replace(4,1, inplace = True)"
   ]
  },
  {
   "cell_type": "code",
   "execution_count": 77,
   "metadata": {},
   "outputs": [
    {
     "data": {
      "text/plain": [
       "0    1682\n",
       "1     935\n",
       "Name: got_pu_transf, dtype: int64"
      ]
     },
     "execution_count": 77,
     "metadata": {},
     "output_type": "execute_result"
    }
   ],
   "source": [
    "colstep['got_pu_transf'].value_counts()"
   ]
  },
  {
   "cell_type": "code",
   "execution_count": 78,
   "metadata": {},
   "outputs": [
    {
     "data": {
      "text/plain": [
       "999.0    880\n",
       "477.0    185\n",
       "970.0    167\n",
       "141.0     97\n",
       "561.0     89\n",
       "471.0     63\n",
       "410.0     58\n",
       "12.0      57\n",
       "466.0     50\n",
       "861.0     50\n",
       "107.0     39\n",
       "841.0     38\n",
       "492.0     37\n",
       "842.0     35\n",
       "472.0     33\n",
       "851.0     31\n",
       "960.0     30\n",
       "310.0     24\n",
       "452.0     20\n",
       "152.0     20\n",
       "478.0     17\n",
       "869.0     16\n",
       "15.0      16\n",
       "619.0     16\n",
       "852.0     15\n",
       "551.0     14\n",
       "641.0     14\n",
       "463.0     13\n",
       "181.0     13\n",
       "151.0     12\n",
       "221.0     11\n",
       "522.0     11\n",
       "900.0     11\n",
       "239.0     11\n",
       "829.0     11\n",
       "801.0     10\n",
       "949.0     10\n",
       "862.0      9\n",
       "855.0      9\n",
       "131.0      8\n",
       "202.0      8\n",
       "451.0      8\n",
       "110.0      7\n",
       "731.0      7\n",
       "649.0      7\n",
       "259.0      7\n",
       "812.0      7\n",
       "821.0      7\n",
       "251.0      7\n",
       "210.0      7\n",
       "432.0      7\n",
       "853.0      6\n",
       "563.0      6\n",
       "920.0      6\n",
       "170.0      6\n",
       "14.0       6\n",
       "139.0      6\n",
       "222.0      6\n",
       "201.0      6\n",
       "941.0      6\n",
       "532.0      6\n",
       "101.0      5\n",
       "691.0      5\n",
       "293.0      5\n",
       "453.0      5\n",
       "473.0      5\n",
       "429.0      5\n",
       "329.0      5\n",
       "581.0      5\n",
       "854.0      4\n",
       "613.0      4\n",
       "479.0      4\n",
       "381.0      4\n",
       "162.0      4\n",
       "681.0      4\n",
       "611.0      4\n",
       "661.0      4\n",
       "321.0      3\n",
       "421.0      3\n",
       "351.0      3\n",
       "843.0      3\n",
       "475.0      3\n",
       "732.0      3\n",
       "952.0      3\n",
       "105.0      3\n",
       "813.0      3\n",
       "711.0      3\n",
       "231.0      3\n",
       "264.0      3\n",
       "469.0      3\n",
       "931.0      3\n",
       "932.0      3\n",
       "292.0      3\n",
       "889.0      3\n",
       "811.0      3\n",
       "692.0      3\n",
       "511.0      3\n",
       "465.0      3\n",
       "741.0      2\n",
       "51.0       2\n",
       "474.0      2\n",
       "161.0      2\n",
       "291.0      2\n",
       "752.0      2\n",
       "791.0      2\n",
       "591.0      2\n",
       "981.0      2\n",
       "491.0      2\n",
       "712.0      2\n",
       "331.0      2\n",
       "781.0      2\n",
       "108.0      2\n",
       "271.0      2\n",
       "241.0      2\n",
       "143.0      2\n",
       "89.0       2\n",
       "910.0      2\n",
       "951.0      2\n",
       "104.0      2\n",
       "324.0      2\n",
       "653.0      1\n",
       "120.0      1\n",
       "772.0      1\n",
       "192.0      1\n",
       "464.0      1\n",
       "272.0      1\n",
       "11.0       1\n",
       "422.0      1\n",
       "352.0      1\n",
       "701.0      1\n",
       "274.0      1\n",
       "243.0      1\n",
       "462.0      1\n",
       "521.0      1\n",
       "783.0      1\n",
       "433.0      1\n",
       "325.0      1\n",
       "662.0      1\n",
       "799.0      1\n",
       "142.0      1\n",
       "620.0      1\n",
       "753.0      1\n",
       "750.0      1\n",
       "275.0      1\n",
       "721.0      1\n",
       "262.0      1\n",
       "990.0      1\n",
       "682.0      1\n",
       "282.0      1\n",
       "267.0      1\n",
       "332.0      1\n",
       "612.0      1\n",
       "309.0      1\n",
       "562.0      1\n",
       "810.0      1\n",
       "439.0      1\n",
       "873.0      1\n",
       "454.0      1\n",
       "950.0      1\n",
       "742.0      1\n",
       "281.0      1\n",
       "106.0      1\n",
       "360.0      1\n",
       "476.0      1\n",
       "461.0      1\n",
       "942.0      1\n",
       "501.0      1\n",
       "601.0      1\n",
       "749.0      1\n",
       "Name: job_sector, dtype: int64"
      ]
     },
     "execution_count": 78,
     "metadata": {},
     "output_type": "execute_result"
    }
   ],
   "source": [
    "colstep['job_sector'].value_counts()"
   ]
  },
  {
   "cell_type": "code",
   "execution_count": 79,
   "metadata": {},
   "outputs": [
    {
     "data": {
      "text/html": [
       "<div>\n",
       "<style scoped>\n",
       "    .dataframe tbody tr th:only-of-type {\n",
       "        vertical-align: middle;\n",
       "    }\n",
       "\n",
       "    .dataframe tbody tr th {\n",
       "        vertical-align: top;\n",
       "    }\n",
       "\n",
       "    .dataframe thead th {\n",
       "        text-align: right;\n",
       "    }\n",
       "</style>\n",
       "<table border=\"1\" class=\"dataframe\">\n",
       "  <thead>\n",
       "    <tr style=\"text-align: right;\">\n",
       "      <th></th>\n",
       "      <th>pub_emp</th>\n",
       "      <th>job_type</th>\n",
       "      <th>contract</th>\n",
       "      <th>benefits</th>\n",
       "      <th>informal</th>\n",
       "      <th>hour_earnings</th>\n",
       "      <th>total_hr_worked_week</th>\n",
       "      <th>underemp</th>\n",
       "      <th>highest_ISCED_PIAAC</th>\n",
       "      <th>years_educ</th>\n",
       "      <th>wealth_index</th>\n",
       "      <th>overqualified</th>\n",
       "      <th>worked_lastweek</th>\n",
       "      <th>dropout</th>\n",
       "      <th>got_pu_transf</th>\n",
       "    </tr>\n",
       "  </thead>\n",
       "  <tbody>\n",
       "    <tr>\n",
       "      <th>count</th>\n",
       "      <td>2617.000000</td>\n",
       "      <td>2617.000000</td>\n",
       "      <td>2617.000000</td>\n",
       "      <td>2617.000000</td>\n",
       "      <td>2617.000000</td>\n",
       "      <td>2617.000000</td>\n",
       "      <td>2617.000000</td>\n",
       "      <td>2617.000000</td>\n",
       "      <td>2617.000000</td>\n",
       "      <td>2617.000000</td>\n",
       "      <td>2617.000000</td>\n",
       "      <td>2617.000000</td>\n",
       "      <td>2617.000000</td>\n",
       "      <td>2617.000000</td>\n",
       "      <td>2617.000000</td>\n",
       "    </tr>\n",
       "    <tr>\n",
       "      <th>mean</th>\n",
       "      <td>0.033626</td>\n",
       "      <td>0.987008</td>\n",
       "      <td>0.235766</td>\n",
       "      <td>0.244173</td>\n",
       "      <td>0.419182</td>\n",
       "      <td>3966.811915</td>\n",
       "      <td>30.360718</td>\n",
       "      <td>0.127245</td>\n",
       "      <td>2.739014</td>\n",
       "      <td>9.939243</td>\n",
       "      <td>-0.097332</td>\n",
       "      <td>0.074131</td>\n",
       "      <td>1.602981</td>\n",
       "      <td>0.306076</td>\n",
       "      <td>0.357279</td>\n",
       "    </tr>\n",
       "    <tr>\n",
       "      <th>std</th>\n",
       "      <td>0.180300</td>\n",
       "      <td>0.838111</td>\n",
       "      <td>0.424558</td>\n",
       "      <td>0.429678</td>\n",
       "      <td>0.493520</td>\n",
       "      <td>10917.150397</td>\n",
       "      <td>29.157601</td>\n",
       "      <td>0.333311</td>\n",
       "      <td>1.788806</td>\n",
       "      <td>3.855069</td>\n",
       "      <td>0.972718</td>\n",
       "      <td>1.240502</td>\n",
       "      <td>0.489374</td>\n",
       "      <td>0.460950</td>\n",
       "      <td>0.479290</td>\n",
       "    </tr>\n",
       "    <tr>\n",
       "      <th>min</th>\n",
       "      <td>0.000000</td>\n",
       "      <td>0.000000</td>\n",
       "      <td>0.000000</td>\n",
       "      <td>0.000000</td>\n",
       "      <td>0.000000</td>\n",
       "      <td>0.000000</td>\n",
       "      <td>0.000000</td>\n",
       "      <td>0.000000</td>\n",
       "      <td>0.000000</td>\n",
       "      <td>0.000000</td>\n",
       "      <td>-3.174085</td>\n",
       "      <td>-4.000000</td>\n",
       "      <td>1.000000</td>\n",
       "      <td>0.000000</td>\n",
       "      <td>0.000000</td>\n",
       "    </tr>\n",
       "    <tr>\n",
       "      <th>25%</th>\n",
       "      <td>0.000000</td>\n",
       "      <td>0.000000</td>\n",
       "      <td>0.000000</td>\n",
       "      <td>0.000000</td>\n",
       "      <td>0.000000</td>\n",
       "      <td>0.000000</td>\n",
       "      <td>0.000000</td>\n",
       "      <td>0.000000</td>\n",
       "      <td>1.000000</td>\n",
       "      <td>7.000000</td>\n",
       "      <td>-0.766078</td>\n",
       "      <td>0.000000</td>\n",
       "      <td>1.000000</td>\n",
       "      <td>0.000000</td>\n",
       "      <td>0.000000</td>\n",
       "    </tr>\n",
       "    <tr>\n",
       "      <th>50%</th>\n",
       "      <td>0.000000</td>\n",
       "      <td>1.000000</td>\n",
       "      <td>0.000000</td>\n",
       "      <td>0.000000</td>\n",
       "      <td>0.000000</td>\n",
       "      <td>1989.945557</td>\n",
       "      <td>28.000000</td>\n",
       "      <td>0.000000</td>\n",
       "      <td>3.000000</td>\n",
       "      <td>11.000000</td>\n",
       "      <td>-0.036469</td>\n",
       "      <td>0.000000</td>\n",
       "      <td>2.000000</td>\n",
       "      <td>0.000000</td>\n",
       "      <td>0.000000</td>\n",
       "    </tr>\n",
       "    <tr>\n",
       "      <th>75%</th>\n",
       "      <td>0.000000</td>\n",
       "      <td>2.000000</td>\n",
       "      <td>0.000000</td>\n",
       "      <td>0.000000</td>\n",
       "      <td>1.000000</td>\n",
       "      <td>3925.584473</td>\n",
       "      <td>54.000000</td>\n",
       "      <td>0.000000</td>\n",
       "      <td>3.000000</td>\n",
       "      <td>12.500000</td>\n",
       "      <td>0.679333</td>\n",
       "      <td>1.000000</td>\n",
       "      <td>2.000000</td>\n",
       "      <td>1.000000</td>\n",
       "      <td>1.000000</td>\n",
       "    </tr>\n",
       "    <tr>\n",
       "      <th>max</th>\n",
       "      <td>1.000000</td>\n",
       "      <td>9.000000</td>\n",
       "      <td>1.000000</td>\n",
       "      <td>1.000000</td>\n",
       "      <td>1.000000</td>\n",
       "      <td>225287.359375</td>\n",
       "      <td>133.000000</td>\n",
       "      <td>1.000000</td>\n",
       "      <td>10.000000</td>\n",
       "      <td>20.000000</td>\n",
       "      <td>1.846256</td>\n",
       "      <td>5.000000</td>\n",
       "      <td>2.000000</td>\n",
       "      <td>1.000000</td>\n",
       "      <td>1.000000</td>\n",
       "    </tr>\n",
       "  </tbody>\n",
       "</table>\n",
       "</div>"
      ],
      "text/plain": [
       "           pub_emp     job_type     contract     benefits     informal  \\\n",
       "count  2617.000000  2617.000000  2617.000000  2617.000000  2617.000000   \n",
       "mean      0.033626     0.987008     0.235766     0.244173     0.419182   \n",
       "std       0.180300     0.838111     0.424558     0.429678     0.493520   \n",
       "min       0.000000     0.000000     0.000000     0.000000     0.000000   \n",
       "25%       0.000000     0.000000     0.000000     0.000000     0.000000   \n",
       "50%       0.000000     1.000000     0.000000     0.000000     0.000000   \n",
       "75%       0.000000     2.000000     0.000000     0.000000     1.000000   \n",
       "max       1.000000     9.000000     1.000000     1.000000     1.000000   \n",
       "\n",
       "       hour_earnings  total_hr_worked_week     underemp  highest_ISCED_PIAAC  \\\n",
       "count    2617.000000           2617.000000  2617.000000          2617.000000   \n",
       "mean     3966.811915             30.360718     0.127245             2.739014   \n",
       "std     10917.150397             29.157601     0.333311             1.788806   \n",
       "min         0.000000              0.000000     0.000000             0.000000   \n",
       "25%         0.000000              0.000000     0.000000             1.000000   \n",
       "50%      1989.945557             28.000000     0.000000             3.000000   \n",
       "75%      3925.584473             54.000000     0.000000             3.000000   \n",
       "max    225287.359375            133.000000     1.000000            10.000000   \n",
       "\n",
       "        years_educ  wealth_index  overqualified  worked_lastweek      dropout  \\\n",
       "count  2617.000000   2617.000000    2617.000000      2617.000000  2617.000000   \n",
       "mean      9.939243     -0.097332       0.074131         1.602981     0.306076   \n",
       "std       3.855069      0.972718       1.240502         0.489374     0.460950   \n",
       "min       0.000000     -3.174085      -4.000000         1.000000     0.000000   \n",
       "25%       7.000000     -0.766078       0.000000         1.000000     0.000000   \n",
       "50%      11.000000     -0.036469       0.000000         2.000000     0.000000   \n",
       "75%      12.500000      0.679333       1.000000         2.000000     1.000000   \n",
       "max      20.000000      1.846256       5.000000         2.000000     1.000000   \n",
       "\n",
       "       got_pu_transf  \n",
       "count    2617.000000  \n",
       "mean        0.357279  \n",
       "std         0.479290  \n",
       "min         0.000000  \n",
       "25%         0.000000  \n",
       "50%         0.000000  \n",
       "75%         1.000000  \n",
       "max         1.000000  "
      ]
     },
     "execution_count": 79,
     "metadata": {},
     "output_type": "execute_result"
    }
   ],
   "source": [
    "colstep.iloc[:,61:80].describe()"
   ]
  },
  {
   "cell_type": "code",
   "execution_count": 80,
   "metadata": {},
   "outputs": [],
   "source": [
    "# Not a data error per se, but I identified a couple of columns on job tasks that should be \n",
    "# included in here. \n",
    "\n",
    "additions = Colombia[['present', 'supervise']]"
   ]
  },
  {
   "cell_type": "code",
   "execution_count": 81,
   "metadata": {},
   "outputs": [
    {
     "data": {
      "text/plain": [
       "present      640\n",
       "supervise    640\n",
       "dtype: int64"
      ]
     },
     "execution_count": 81,
     "metadata": {},
     "output_type": "execute_result"
    }
   ],
   "source": [
    "# Looking for null values. It follows the same pattern as other work-related tasks. I'll impute\n",
    "# these values as I did with the other tasks \n",
    "additions.isnull().sum()"
   ]
  },
  {
   "cell_type": "code",
   "execution_count": 82,
   "metadata": {},
   "outputs": [
    {
     "name": "stderr",
     "output_type": "stream",
     "text": [
      "/Users/vvroseth/opt/anaconda3/lib/python3.7/site-packages/pandas/core/frame.py:4259: SettingWithCopyWarning: \n",
      "A value is trying to be set on a copy of a slice from a DataFrame\n",
      "\n",
      "See the caveats in the documentation: http://pandas.pydata.org/pandas-docs/stable/user_guide/indexing.html#returning-a-view-versus-a-copy\n",
      "  **kwargs\n"
     ]
    }
   ],
   "source": [
    "# Replacing for 0 \n",
    "additions.fillna(0, inplace = True) "
   ]
  },
  {
   "cell_type": "code",
   "execution_count": 83,
   "metadata": {},
   "outputs": [
    {
     "data": {
      "text/plain": [
       "0.0    2122\n",
       "1.0     495\n",
       "Name: present, dtype: int64"
      ]
     },
     "execution_count": 83,
     "metadata": {},
     "output_type": "execute_result"
    }
   ],
   "source": [
    "additions['present'].value_counts()"
   ]
  },
  {
   "cell_type": "code",
   "execution_count": 84,
   "metadata": {},
   "outputs": [
    {
     "data": {
      "text/plain": [
       "0.0    1942\n",
       "1.0     675\n",
       "Name: supervise, dtype: int64"
      ]
     },
     "execution_count": 84,
     "metadata": {},
     "output_type": "execute_result"
    }
   ],
   "source": [
    "additions['supervise'].value_counts()"
   ]
  },
  {
   "cell_type": "code",
   "execution_count": 85,
   "metadata": {},
   "outputs": [],
   "source": [
    "# Concatenating to the main dataframe \n",
    "colstep = pd.concat([colstep, additions], axis = 1)"
   ]
  },
  {
   "cell_type": "code",
   "execution_count": 86,
   "metadata": {},
   "outputs": [
    {
     "data": {
      "text/plain": [
       "Index(['in_school', 'house_type', 'owns_house', 'house_beds', 'house_kitchen',\n",
       "       'reported_social_status', 'got_pr_transf', 'job_sector',\n",
       "       'part_in_training', 'life_satisfaction', 'offdays_ill',\n",
       "       'healthinsurance', 'firm_econ_act', 'occupation',\n",
       "       'speak_other_languaje', 'lives_w_mother', 'lives_w_father', 'ses_15',\n",
       "       'read_work', 'read_outside', 'read_overall', 'write_work',\n",
       "       'write_outside', 'write_overall', 'num_work', 'num_outside',\n",
       "       'numeracy_overall', 'client_contact_work', 'comp_work', 'comp_outside',\n",
       "       'computer_use_overall', 'software_use', 'think_at_work',\n",
       "       'learn_at_work', 'think_learn_work', 'autonomy_at_work',\n",
       "       'repetitiveness_at_work', 'autonomy_repet_work', 'physical_demand_work',\n",
       "       'extraversion_av', 'conscientiousness_avg', 'openness_av',\n",
       "       'stability_av', 'agreeableness_av', 'grit_av', 'decision_av',\n",
       "       'hostile_av', 'risk', 'has_children', 'hh_size', 'gender', 'age',\n",
       "       'has_spouse', 'chronic_disease', 'shocks_bef_15', 'BMI',\n",
       "       'mother_tongue', 'labor_market_status', 'inactive_status',\n",
       "       'occtype_step', 'job_stable', 'pub_emp', 'job_type', 'contract',\n",
       "       'benefits', 'informal', 'hour_earnings', 'total_hr_worked_week',\n",
       "       'underemp', 'highest_ISCED_PIAAC', 'years_educ', 'wealth_index',\n",
       "       'overqualified', 'country', 'worked_lastweek', 'dropout',\n",
       "       'got_pu_transf', 'present', 'supervise'],\n",
       "      dtype='object')"
      ]
     },
     "execution_count": 86,
     "metadata": {},
     "output_type": "execute_result"
    }
   ],
   "source": [
    "# Checking it worked \n",
    "colstep.columns"
   ]
  },
  {
   "cell_type": "code",
   "execution_count": 87,
   "metadata": {},
   "outputs": [
    {
     "data": {
      "text/html": [
       "<div>\n",
       "<style scoped>\n",
       "    .dataframe tbody tr th:only-of-type {\n",
       "        vertical-align: middle;\n",
       "    }\n",
       "\n",
       "    .dataframe tbody tr th {\n",
       "        vertical-align: top;\n",
       "    }\n",
       "\n",
       "    .dataframe thead th {\n",
       "        text-align: right;\n",
       "    }\n",
       "</style>\n",
       "<table border=\"1\" class=\"dataframe\">\n",
       "  <thead>\n",
       "    <tr style=\"text-align: right;\">\n",
       "      <th></th>\n",
       "      <th>in_school</th>\n",
       "      <th>house_type</th>\n",
       "      <th>owns_house</th>\n",
       "      <th>house_beds</th>\n",
       "      <th>house_kitchen</th>\n",
       "      <th>reported_social_status</th>\n",
       "      <th>got_pr_transf</th>\n",
       "      <th>job_sector</th>\n",
       "      <th>part_in_training</th>\n",
       "      <th>life_satisfaction</th>\n",
       "      <th>...</th>\n",
       "      <th>highest_ISCED_PIAAC</th>\n",
       "      <th>years_educ</th>\n",
       "      <th>wealth_index</th>\n",
       "      <th>overqualified</th>\n",
       "      <th>country</th>\n",
       "      <th>worked_lastweek</th>\n",
       "      <th>dropout</th>\n",
       "      <th>got_pu_transf</th>\n",
       "      <th>present</th>\n",
       "      <th>supervise</th>\n",
       "    </tr>\n",
       "  </thead>\n",
       "  <tbody>\n",
       "    <tr>\n",
       "      <th>0</th>\n",
       "      <td>2.0</td>\n",
       "      <td>3</td>\n",
       "      <td>6</td>\n",
       "      <td>5</td>\n",
       "      <td>1</td>\n",
       "      <td>3</td>\n",
       "      <td>2</td>\n",
       "      <td>999.0</td>\n",
       "      <td>2.0</td>\n",
       "      <td>9.0</td>\n",
       "      <td>...</td>\n",
       "      <td>3</td>\n",
       "      <td>11.0</td>\n",
       "      <td>-0.172015</td>\n",
       "      <td>0.0</td>\n",
       "      <td>Colombia</td>\n",
       "      <td>2.0</td>\n",
       "      <td>0.0</td>\n",
       "      <td>1</td>\n",
       "      <td>0.0</td>\n",
       "      <td>0.0</td>\n",
       "    </tr>\n",
       "    <tr>\n",
       "      <th>1</th>\n",
       "      <td>2.0</td>\n",
       "      <td>3</td>\n",
       "      <td>6</td>\n",
       "      <td>2</td>\n",
       "      <td>1</td>\n",
       "      <td>3</td>\n",
       "      <td>2</td>\n",
       "      <td>799.0</td>\n",
       "      <td>1.0</td>\n",
       "      <td>9.0</td>\n",
       "      <td>...</td>\n",
       "      <td>5</td>\n",
       "      <td>13.0</td>\n",
       "      <td>0.303367</td>\n",
       "      <td>1.0</td>\n",
       "      <td>Colombia</td>\n",
       "      <td>2.0</td>\n",
       "      <td>0.0</td>\n",
       "      <td>0</td>\n",
       "      <td>1.0</td>\n",
       "      <td>1.0</td>\n",
       "    </tr>\n",
       "    <tr>\n",
       "      <th>2</th>\n",
       "      <td>2.0</td>\n",
       "      <td>1</td>\n",
       "      <td>6</td>\n",
       "      <td>4</td>\n",
       "      <td>1</td>\n",
       "      <td>3</td>\n",
       "      <td>2</td>\n",
       "      <td>999.0</td>\n",
       "      <td>2.0</td>\n",
       "      <td>5.0</td>\n",
       "      <td>...</td>\n",
       "      <td>1</td>\n",
       "      <td>8.0</td>\n",
       "      <td>0.257640</td>\n",
       "      <td>0.0</td>\n",
       "      <td>Colombia</td>\n",
       "      <td>2.0</td>\n",
       "      <td>1.0</td>\n",
       "      <td>1</td>\n",
       "      <td>0.0</td>\n",
       "      <td>0.0</td>\n",
       "    </tr>\n",
       "    <tr>\n",
       "      <th>3</th>\n",
       "      <td>2.0</td>\n",
       "      <td>3</td>\n",
       "      <td>6</td>\n",
       "      <td>3</td>\n",
       "      <td>1</td>\n",
       "      <td>3</td>\n",
       "      <td>2</td>\n",
       "      <td>466.0</td>\n",
       "      <td>2.0</td>\n",
       "      <td>7.0</td>\n",
       "      <td>...</td>\n",
       "      <td>3</td>\n",
       "      <td>14.5</td>\n",
       "      <td>0.303686</td>\n",
       "      <td>0.0</td>\n",
       "      <td>Colombia</td>\n",
       "      <td>2.0</td>\n",
       "      <td>1.0</td>\n",
       "      <td>0</td>\n",
       "      <td>0.0</td>\n",
       "      <td>0.0</td>\n",
       "    </tr>\n",
       "    <tr>\n",
       "      <th>4</th>\n",
       "      <td>2.0</td>\n",
       "      <td>1</td>\n",
       "      <td>1</td>\n",
       "      <td>2</td>\n",
       "      <td>1</td>\n",
       "      <td>3</td>\n",
       "      <td>2</td>\n",
       "      <td>477.0</td>\n",
       "      <td>2.0</td>\n",
       "      <td>7.0</td>\n",
       "      <td>...</td>\n",
       "      <td>3</td>\n",
       "      <td>11.0</td>\n",
       "      <td>1.061927</td>\n",
       "      <td>1.0</td>\n",
       "      <td>Colombia</td>\n",
       "      <td>2.0</td>\n",
       "      <td>0.0</td>\n",
       "      <td>0</td>\n",
       "      <td>0.0</td>\n",
       "      <td>1.0</td>\n",
       "    </tr>\n",
       "  </tbody>\n",
       "</table>\n",
       "<p>5 rows × 79 columns</p>\n",
       "</div>"
      ],
      "text/plain": [
       "   in_school  house_type  owns_house  house_beds  house_kitchen  \\\n",
       "0        2.0           3           6           5              1   \n",
       "1        2.0           3           6           2              1   \n",
       "2        2.0           1           6           4              1   \n",
       "3        2.0           3           6           3              1   \n",
       "4        2.0           1           1           2              1   \n",
       "\n",
       "   reported_social_status  got_pr_transf  job_sector  part_in_training  \\\n",
       "0                       3              2       999.0               2.0   \n",
       "1                       3              2       799.0               1.0   \n",
       "2                       3              2       999.0               2.0   \n",
       "3                       3              2       466.0               2.0   \n",
       "4                       3              2       477.0               2.0   \n",
       "\n",
       "   life_satisfaction  ...  highest_ISCED_PIAAC  years_educ  wealth_index  \\\n",
       "0                9.0  ...                    3        11.0     -0.172015   \n",
       "1                9.0  ...                    5        13.0      0.303367   \n",
       "2                5.0  ...                    1         8.0      0.257640   \n",
       "3                7.0  ...                    3        14.5      0.303686   \n",
       "4                7.0  ...                    3        11.0      1.061927   \n",
       "\n",
       "   overqualified   country  worked_lastweek  dropout  got_pu_transf  present  \\\n",
       "0            0.0  Colombia              2.0      0.0              1      0.0   \n",
       "1            1.0  Colombia              2.0      0.0              0      1.0   \n",
       "2            0.0  Colombia              2.0      1.0              1      0.0   \n",
       "3            0.0  Colombia              2.0      1.0              0      0.0   \n",
       "4            1.0  Colombia              2.0      0.0              0      0.0   \n",
       "\n",
       "   supervise  \n",
       "0        0.0  \n",
       "1        1.0  \n",
       "2        0.0  \n",
       "3        0.0  \n",
       "4        1.0  \n",
       "\n",
       "[5 rows x 79 columns]"
      ]
     },
     "execution_count": 87,
     "metadata": {},
     "output_type": "execute_result"
    }
   ],
   "source": [
    "# Taking a look at the final dataframe \n",
    "colstep.head()"
   ]
  },
  {
   "cell_type": "code",
   "execution_count": 91,
   "metadata": {},
   "outputs": [
    {
     "data": {
      "text/plain": [
       "in_school                 0\n",
       "house_type                0\n",
       "owns_house                0\n",
       "house_beds                0\n",
       "house_kitchen             0\n",
       "reported_social_status    0\n",
       "got_pr_transf             0\n",
       "job_sector                0\n",
       "part_in_training          0\n",
       "life_satisfaction         0\n",
       "offdays_ill               0\n",
       "healthinsurance           0\n",
       "firm_econ_act             0\n",
       "occupation                0\n",
       "speak_other_languaje      0\n",
       "lives_w_mother            0\n",
       "lives_w_father            0\n",
       "ses_15                    0\n",
       "read_work                 0\n",
       "read_outside              0\n",
       "read_overall              0\n",
       "write_work                0\n",
       "write_outside             0\n",
       "write_overall             0\n",
       "num_work                  0\n",
       "num_outside               0\n",
       "numeracy_overall          0\n",
       "client_contact_work       0\n",
       "comp_work                 0\n",
       "comp_outside              0\n",
       "computer_use_overall      0\n",
       "software_use              0\n",
       "think_at_work             0\n",
       "learn_at_work             0\n",
       "think_learn_work          0\n",
       "autonomy_at_work          0\n",
       "repetitiveness_at_work    0\n",
       "autonomy_repet_work       0\n",
       "physical_demand_work      0\n",
       "extraversion_av           0\n",
       "conscientiousness_avg     0\n",
       "openness_av               0\n",
       "stability_av              0\n",
       "agreeableness_av          0\n",
       "grit_av                   0\n",
       "decision_av               0\n",
       "hostile_av                0\n",
       "risk                      0\n",
       "has_children              0\n",
       "hh_size                   0\n",
       "gender                    0\n",
       "age                       0\n",
       "has_spouse                0\n",
       "chronic_disease           0\n",
       "shocks_bef_15             0\n",
       "BMI                       0\n",
       "mother_tongue             0\n",
       "labor_market_status       0\n",
       "inactive_status           0\n",
       "occtype_step              0\n",
       "job_stable                0\n",
       "pub_emp                   0\n",
       "job_type                  0\n",
       "contract                  0\n",
       "benefits                  0\n",
       "informal                  0\n",
       "hour_earnings             0\n",
       "total_hr_worked_week      0\n",
       "underemp                  0\n",
       "highest_ISCED_PIAAC       0\n",
       "years_educ                0\n",
       "wealth_index              0\n",
       "overqualified             0\n",
       "country                   0\n",
       "worked_lastweek           0\n",
       "dropout                   0\n",
       "got_pu_transf             0\n",
       "present                   0\n",
       "supervise                 0\n",
       "dtype: int64"
      ]
     },
     "execution_count": 91,
     "metadata": {},
     "output_type": "execute_result"
    }
   ],
   "source": [
    "colstep.isnull().sum()"
   ]
  },
  {
   "cell_type": "code",
   "execution_count": 89,
   "metadata": {},
   "outputs": [],
   "source": [
    "colstep.to_csv('STEPColombia.csv', index = False)"
   ]
  }
 ],
 "metadata": {
  "kernelspec": {
   "display_name": "Python 3",
   "language": "python",
   "name": "python3"
  },
  "language_info": {
   "codemirror_mode": {
    "name": "ipython",
    "version": 3
   },
   "file_extension": ".py",
   "mimetype": "text/x-python",
   "name": "python",
   "nbconvert_exporter": "python",
   "pygments_lexer": "ipython3",
   "version": "3.7.4"
  }
 },
 "nbformat": 4,
 "nbformat_minor": 4
}
