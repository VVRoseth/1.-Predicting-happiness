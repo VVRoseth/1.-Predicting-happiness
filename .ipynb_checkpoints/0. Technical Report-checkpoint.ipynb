{
 "cells": [
  {
   "cell_type": "markdown",
   "metadata": {},
   "source": [
    "# Predicting Happiness"
   ]
  },
  {
   "cell_type": "markdown",
   "metadata": {},
   "source": [
    "## Technical Report (Rough Draft)"
   ]
  },
  {
   "cell_type": "markdown",
   "metadata": {},
   "source": [
    "#### Table of Contents:\n",
    "[Executive Summary](#first-bullet)\n",
    "1. [Problem Statement](#second-bullet)\n",
    "2. [Dataset](#third-bullet)\n",
    "3. [Methodology](#fourth-bullet)\n",
    "4. [Findings](#fifth-bullet)\n",
    "5. [Limitations](#sixth-bullet)"
   ]
  },
  {
   "cell_type": "markdown",
   "metadata": {},
   "source": [
    "#### Executive Summary <a class=\"anchor\" id=\"first-bullet\"></a>"
   ]
  },
  {
   "cell_type": "markdown",
   "metadata": {},
   "source": [
    "Happiness is personal. Everybody defines it differently based on their experiences, priorities, and personality, among others. In general, it is associated with specific contexts and how individuals interact with them. This project seeks to identify the factors that are more strongly associated with self-reported satisfaction with life, using a household survey conducted by the World Bank in 15 countries. To do so, it uses multiple classification modelling techniques.  "
   ]
  },
  {
   "cell_type": "markdown",
   "metadata": {},
   "source": [
    "#### 1. Problem Statement <a class=\"anchor\" id=\"second-bullet\"></a>"
   ]
  },
  {
   "cell_type": "markdown",
   "metadata": {},
   "source": [
    "The question that I am trying to address is: What makes people happy? Inevitably, the answer will come in two parts: elements that are unchangeable (age, gender, etc.) and those subject to modification. By identifying the degree to which both the structural and malleable elements contribute to an individual's happiness, and statistically isolating the effects of each factor, we can have greater confidence in advising on how to become a happier person. Is there anything else more important in life than happiness?\n",
    "\n",
    "Time permitting, I would like to extend this quest to the business problem of how to employee wellbeing. It is well-documented in academic literature that happy employees are productive employees, and therefore measures to increase employee wellbeing are indeed worth their weight in gold.  "
   ]
  },
  {
   "cell_type": "markdown",
   "metadata": {},
   "source": [
    "#### 2. Dataset <a class=\"anchor\" id=\"third-bullet\"></a>"
   ]
  },
  {
   "cell_type": "markdown",
   "metadata": {},
   "source": [
    "The data for this analysis comes from the World Bank STEP Skills Measurement Program. STEP is a multi-country survey-based project aimed at generating information on skills, education and labor market outcomes. Initially, the research will focus on one country - Colombia - which has 2,617 observations. The dataset includes 1,162 variables that cover a wide range of aspects of respondents' lives (from assets to reading and writting comprehension, from job stability to socio-economic status during formative years). Time permitting, the analysis will be expanded to include additional countries (data is available for 15 developing countries as well as most OECD countries). "
   ]
  },
  {
   "cell_type": "markdown",
   "metadata": {},
   "source": [
    "#### 3. Methodology <a class=\"anchor\" id=\"fourth-bullet\"></a>"
   ]
  },
  {
   "cell_type": "markdown",
   "metadata": {},
   "source": [
    "The objective of the project is to identify factors that predict happiness. Therefore, the dependent variable in all models is happiness, specifically, the answer to the survey question \"how satisfied are you with your life at present?\" on a 0-10 scale, 0 signifying \"not happy at all\" and 10 signifying \"extremely happy\". Given the outcome variable, the challenge can be understood as a multi-class classification problem. As such, I will use classification models such as multinomial logistic regression, K-nearest neighbor, decision trees and random forest. The models will explore a broad set of explanatory variables broadly grouped in the following seven categories: health, wealth, personality traits, educational attainment, labor market status, personal characteristics and family. Each model will be evaluated using accuracy scores. "
   ]
  },
  {
   "cell_type": "markdown",
   "metadata": {},
   "source": [
    "#### 4. Findings <a class=\"anchor\" id=\"fifth-bullet\"></a>"
   ]
  },
  {
   "cell_type": "markdown",
   "metadata": {},
   "source": [
    "(Preliminary) To date, I have run one mulitinomial logistic regression with 14 characteristics (two from each of the seven categories mentioned above). The accuracy score was 29% on the train data and 28% on the test daata, indicating that the explanatory power of the model was low. Forthcoming models will both expand the range of explanatory variables used and test different techinques as mentioned above. "
   ]
  },
  {
   "cell_type": "markdown",
   "metadata": {},
   "source": [
    "#### 5. Limitations <a class=\"anchor\" id=\"sixth-bullet\"></a>"
   ]
  },
  {
   "cell_type": "markdown",
   "metadata": {},
   "source": [
    "As mentioned above, the only model run to date produced a low accuracy score. Therefore, it is not worth reporting the factors highlighted as most significant in predicting happiness, as even the most influential variables contribute little to understanding the variation in the outcome measure. "
   ]
  },
  {
   "cell_type": "code",
   "execution_count": null,
   "metadata": {},
   "outputs": [],
   "source": [
    "\n"
   ]
  }
 ],
 "metadata": {
  "kernelspec": {
   "display_name": "Python 3",
   "language": "python",
   "name": "python3"
  },
  "language_info": {
   "codemirror_mode": {
    "name": "ipython",
    "version": 3
   },
   "file_extension": ".py",
   "mimetype": "text/x-python",
   "name": "python",
   "nbconvert_exporter": "python",
   "pygments_lexer": "ipython3",
   "version": "3.7.4"
  }
 },
 "nbformat": 4,
 "nbformat_minor": 4
}
