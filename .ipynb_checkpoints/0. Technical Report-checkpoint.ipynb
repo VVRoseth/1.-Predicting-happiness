{
 "cells": [
  {
   "cell_type": "markdown",
   "metadata": {},
   "source": [
    "# Predicting Happiness"
   ]
  },
  {
   "cell_type": "markdown",
   "metadata": {},
   "source": [
    "## Technical Report"
   ]
  },
  {
   "cell_type": "markdown",
   "metadata": {},
   "source": [
    "#### Table of Contents:\n",
    "[Executive Summary](#first-bullet)\n",
    "1. [Problem Statement](#second-bullet)\n",
    "2. [Dataset](#third-bullet)\n",
    "3. [Methodology](#fourth-bullet)\n",
    "4. [Findings](#fifth-bullet)\n",
    "5. [Limitations and next steps](#sixth-bullet)"
   ]
  },
  {
   "cell_type": "markdown",
   "metadata": {},
   "source": [
    "#### Executive Summary <a class=\"anchor\" id=\"first-bullet\"></a>"
   ]
  },
  {
   "cell_type": "markdown",
   "metadata": {},
   "source": [
    "Happiness is personal. Everybody defines it differently based on their experiences, priorities, and personality, among others. In general, it is associated with specific contexts and how individuals interact with them. This project seeks to identify the factors that are more strongly associated with self-reported satisfaction with life, using a household survey conducted by the World Bank in 15 countries. To do so, it uses multiple classification modelling techniques. Currently the analysis focuses on the dataset for Colombia, but it will incorporate other countries in the coming days. At the moment, the dataset consists of 2617 individuals and 72 variables, all grouped under seven categories of wellbeing. We currently can predict whether a person is happy or unhappy with an accuracy of over 85% using different binary classification models. "
   ]
  },
  {
   "cell_type": "markdown",
   "metadata": {},
   "source": [
    "#### 1. Problem Statement <a class=\"anchor\" id=\"second-bullet\"></a>"
   ]
  },
  {
   "cell_type": "markdown",
   "metadata": {},
   "source": [
    "The question that I am trying to address is: What makes people happy? Inevitably, the answer will come in two parts: elements that are unchangeable (age, gender, etc.) and those subject to modification. By identifying the degree to which both the structural and malleable elements contribute to an individual's happiness, and statistically isolating the effects of each factor, we can have greater confidence in advising on how to become a happier person. Is there anything else more important in life than happiness?  "
   ]
  },
  {
   "cell_type": "markdown",
   "metadata": {},
   "source": [
    "#### 2. Dataset <a class=\"anchor\" id=\"third-bullet\"></a>"
   ]
  },
  {
   "cell_type": "markdown",
   "metadata": {},
   "source": [
    "The data for this analysis comes from the World Bank STEP Skills Measurement Program. STEP is a multi-country survey-based project aimed at generating information on skills, education and labor market outcomes. Initially, the research will focus on one country - Colombia - which has 2,617 observations. The dataset includes 1,162 variables that cover a wide range of aspects of respondents' lives (from assets to reading and writting comprehension, from job stability to socio-economic status during formative years). Time permitting, the analysis will be expanded to include additional countries. Data is available for 17 developing countries. The OECD has conducted a similar survey that claims comparability with STEP data, which extends the possibility to include high income countries into this dataset. "
   ]
  },
  {
   "cell_type": "markdown",
   "metadata": {},
   "source": [
    "#### 3. Methodology <a class=\"anchor\" id=\"fourth-bullet\"></a>"
   ]
  },
  {
   "cell_type": "markdown",
   "metadata": {},
   "source": [
    "The objective of the project is to identify factors that predict happiness. Therefore, the dependent variable in all models is happiness, specifically, the answer to the survey question \"how satisfied are you with your life at present?\" on a 0-10 scale, 0 signifying \"not happy at all\" and 10 signifying \"extremely happy\". \n",
    "\n",
    "Given the range of the outcome variable, the first approach was to address the problem as a multi-class classification. As such, I used classification models such as multinomial logistic regression, K-nearest neighbors, decision trees and random forests. The models explored a broad set of explanatory variables broadly grouped in the following seven categories: health, wealth, personality traits, educational attainment, labor market status, personal characteristics and family. Each model was evaluated using accuracy scores. \n",
    "\n",
    "Given the underwhelming performance of the multiclass classification models, I binarized Y to perform simpler classification models. Respondents who rated their satisfaction with life as 5 or below were grouped under the 'unhappy' category (0), and those whose rating was 6 or above were grouped under the 'happy' category (1). This created an unabalanced classes problem as more than 80% of people fell under the 'happy' category. I stratified the test and train samples and achieved higher accuracy scores. However, they are only marginally better than the baseline.  "
   ]
  },
  {
   "cell_type": "markdown",
   "metadata": {},
   "source": [
    "#### 4. Findings <a class=\"anchor\" id=\"fifth-bullet\"></a>"
   ]
  },
  {
   "cell_type": "markdown",
   "metadata": {},
   "source": [
    "As shwon below, binary classification models perform much better than multiclass classification ones.  "
   ]
  },
  {
   "cell_type": "markdown",
   "metadata": {},
   "source": [
    "**Multi-class classification:**"
   ]
  },
  {
   "cell_type": "markdown",
   "metadata": {},
   "source": [
    "|Model|Cross-validation score|Train score| Test score| Difference|\n",
    "|-----|----------------------|-----------|-----------|-----------|\n",
    "|Linear Regression|8.30%|16.08%| 8.06%| 8.02%|\n",
    "|Multiclass Logreg (Lasso)|28.19%|31.96%|29.47%|2.49%\n",
    "|KNN - n=20, alg=auto|24.16%|33.43%|23.82% |9.61%\n",
    "|DecisionTree max_depth=2, min_sam_split = 2, min_samp_leaf = 2|26.66%|28.34%|28.85%|-0.51%\n",
    "|Random Forest max_depth=5, min_sam_split = 50, min_samp_leaf = 5|27.21%|32.57%|27.48%|5.09%\n",
    "\n"
   ]
  },
  {
   "cell_type": "markdown",
   "metadata": {},
   "source": [
    "**Binary class classification**:"
   ]
  },
  {
   "cell_type": "markdown",
   "metadata": {},
   "source": [
    "|Model|Cross-validation score|Train score| Test score| Difference|\n",
    "|-----|----------------------|-----------|-----------|-----------|\n",
    "|Multiclass Logreg (Lasso)|86.95%|86.95%|87.02%|-0.07%\n",
    "|KNN - n=20, alg=auto|85.53%|88.28%|86.41%|1.87%\n",
    "|DecisionTree max_depth=2, min_sam_split = 2, min_samp_leaf = 2|77.17%|86.95%|87.02%|-0.07%\n",
    "|Random Forest max_depth=5, min_sam_split = 50, min_samp_leaf = 5|86.95%|86.95%|87.02%|-0.07%\n"
   ]
  },
  {
   "cell_type": "markdown",
   "metadata": {},
   "source": [
    "#### 5. Limitations and next steps <a class=\"anchor\" id=\"sixth-bullet\"></a>"
   ]
  },
  {
   "cell_type": "markdown",
   "metadata": {},
   "source": [
    "The lack of an objective and commonly agreed upon metric for happiness is a limitation inherent to the problem this poroject is trying to address. It is impossible to determine whether the respondents addressed the question about their satisfaction with their lives based on their current (and temporary) emotional state, the questions previously asked, a comprehensive look at their lives or any other combination of factors. Additionally, this survey is about 45 minutes-long. This means that respondents were not only available for such an extended period, but also were not under stress. This may have had an effect on their expressed satisfaction as they must have been comfortable in their house and not necessarily pre-occupied. This also explains the resulting unbalanced classes once Y was binarized (80% were categorized as happy). \n",
    "\n",
    "At the moment, the models run do not allow to answer the question 'What makes people happy?'. They allow to predict the happiness in unseen data with a reasonable level of accuracy, but more exploration (and other models and analysis techniques) are necessary to properly address the question. In upcoming iterations of this exercise I will: \n",
    "\n",
    "- Include additional countries: This will add 'country' as an additional feature of the model, but also has the potential to include a bit of variation to the binarized y. \n",
    "- Preform additional analyses: Principal component analyses must be performed in this data. Also, generalized linear models can help address the original question in a more direct way. \n",
    "- Perform cohort analysis: It is entirely possible that the reported satisfaction with life varies by age, gender, employment status and educational attainment. Performing cohort analyses for each of these categories may uncover additional patterns in the data.  "
   ]
  },
  {
   "cell_type": "code",
   "execution_count": null,
   "metadata": {},
   "outputs": [],
   "source": []
  }
 ],
 "metadata": {
  "kernelspec": {
   "display_name": "Python 3",
   "language": "python",
   "name": "python3"
  },
  "language_info": {
   "codemirror_mode": {
    "name": "ipython",
    "version": 3
   },
   "file_extension": ".py",
   "mimetype": "text/x-python",
   "name": "python",
   "nbconvert_exporter": "python",
   "pygments_lexer": "ipython3",
   "version": "3.7.4"
  }
 },
 "nbformat": 4,
 "nbformat_minor": 4
}
