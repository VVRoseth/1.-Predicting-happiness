{
 "cells": [
  {
   "cell_type": "markdown",
   "metadata": {},
   "source": [
    "# Capstone Progress Report "
   ]
  },
  {
   "cell_type": "markdown",
   "metadata": {},
   "source": [
    "### Check-in 3"
   ]
  },
  {
   "cell_type": "markdown",
   "metadata": {},
   "source": [
    "**Revised idea:**"
   ]
  },
  {
   "cell_type": "markdown",
   "metadata": {},
   "source": [
    "Since I was not able to access the data from Glassdoor to develop the employer reccommender, I had to revise my idea. \n",
    "\n",
    "Currently I am working with data from a household survey carried out by the World Bank under the STEP initiative. The survey is intended to assess the skills and labor market status of adults, but it includes a vast array of data analyze other issues. \n",
    "\n",
    "The data includes self-reported life satisfaction on a scale from 0-10. This will be my y variable\n",
    "\n",
    "It also includes more than 1700 columns with answers on topics such as personal characteristics, health, personality traits, cognitive skills, job situation, etc. I will use a subset as my X variables. \n",
    "\n",
    "The question that I am trying to address is: What makes people happy? \n",
    "\n",
    "The business problem I am trying to tackle is: What can businesses do to improve the wellbeing, and therefore productivity, of their employees? \n"
   ]
  },
  {
   "cell_type": "markdown",
   "metadata": {},
   "source": [
    "**Here are my answers to the questions for this check-in:**"
   ]
  },
  {
   "cell_type": "markdown",
   "metadata": {},
   "source": [
    "- Do you have data fully in hand and if not, what blockers are you facing?\n",
    "\n",
    "The survey has been carried out in about 13 countries. I decided to start with only one country to explore the data and replicate the analysis in other countries. Seeing how time consuming the cleaning and EDA process has been, I am not sure I will have enough time to do as many countries as I hoped to do. I know that not all the surveys are identical, which makes it more difficult to just replicate the code in the datasets of other countries. I really wanted to do the analysis for the US, but that information is gathered by the OECD and, though it should be compatible, I do not know how it is set up and how difficult will it be to adapt it for my purposes. \n",
    "\n",
    "- Have you done a full EDA on all of your data?\n",
    "\n",
    "No. I am working on it. I had to look at all the 1,162 features to select the most appropriate ones for my problem. There are a lot of depenencies on my data and, therefore, many features with null values that are equivalent to 'not applicable'. I have imputed all the null values and reduced the number of features to 76. I am currently doing the EDA which could result in adding or deleting features. \n",
    "\n",
    "- Have you begun the modeling process? How accurate are your predictions so far?\n",
    "\n",
    "No. \n",
    "\n",
    "- What blockers are you facing, including processing power, data acquisition, modeling difficulties, data cleaning, etc.? How can we help you overcome those challenges?\n",
    "\n",
    "At the moment, the only thing that I need is time to focus on this. Even after narrowing down the features, the dataset is quite complicated and requires sustained focus. A bit of flexibility on the deadline for the remaining labs and blogs would not hurt. I have yet to complete 5 assignments to make it to the 80%. Quite frankly, I don't see how I can achieve that in a week and a half. \n",
    "\n",
    "\n",
    "- Have you changed topics since your lightning talk? Since you submitted your Problem Statement and EDA? If so, do you have the necessary data in hand (and the requisite EDA completed) to continue moving forward?\n",
    "\n",
    "I have changed topics, yes. I have a dataset with 2600 rows and 70 columns, and the potential to include additional datasets from other countries if time allows it. \n",
    "\n",
    "- What is your timeline for the next week and a half? What do you have to get done versus what would you like to get done?\n",
    "\n",
    "I want to have a model that accurately predicts life satisfaction accross countries. I want to discover which factors have a better predictive power than others, specially those that have to do with education and work. I am afraid I will only be able to cover one country. \n",
    "\n",
    "- What topics do you want to discuss during your 1:1?\n",
    "\n",
    "How to achieve 80% and finish my project within a week and a half. Also, how to create indexes with features. \n",
    "\n",
    "We will use your progress report as a leaping off point for a deep 1:1 with a member of the instructional staff. The best use of your time is to really flesh out this document so that your remaining time here can be most productive."
   ]
  },
  {
   "cell_type": "code",
   "execution_count": null,
   "metadata": {},
   "outputs": [],
   "source": []
  }
 ],
 "metadata": {
  "kernelspec": {
   "display_name": "Python 3",
   "language": "python",
   "name": "python3"
  },
  "language_info": {
   "codemirror_mode": {
    "name": "ipython",
    "version": 3
   },
   "file_extension": ".py",
   "mimetype": "text/x-python",
   "name": "python",
   "nbconvert_exporter": "python",
   "pygments_lexer": "ipython3",
   "version": "3.7.4"
  }
 },
 "nbformat": 4,
 "nbformat_minor": 4
}
